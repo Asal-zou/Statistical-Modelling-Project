{
 "cells": [
  {
   "cell_type": "code",
   "execution_count": 26,
   "metadata": {},
   "outputs": [],
   "source": [
    "import requests\n",
    "import json \n",
    "import pandas as pd\n",
    "import requests \n",
    "import requests\n",
    "import os"
   ]
  },
  {
   "attachments": {},
   "cell_type": "markdown",
   "metadata": {},
   "source": [
    "### using City bike table."
   ]
  },
  {
   "cell_type": "code",
   "execution_count": 27,
   "metadata": {},
   "outputs": [],
   "source": [
    "filtered_df= pd.read_csv('../data/Bikes.csv')"
   ]
  },
  {
   "attachments": {},
   "cell_type": "markdown",
   "metadata": {},
   "source": [
    "# Foursquare"
   ]
  },
  {
   "attachments": {},
   "cell_type": "markdown",
   "metadata": {},
   "source": [
    "Send a request to Foursquare with a small radius for all the bike stations in your city of choice. \n",
    "\n",
    "### sending request to Foursquare using citybike radius that i have."
   ]
  },
  {
   "cell_type": "code",
   "execution_count": 28,
   "metadata": {},
   "outputs": [],
   "source": [
    "def get_venues_fs(latitude, longitude, radius, api_key, \n",
    "                  categories, station_name):\n",
    "    \n",
    "    url = \"https://api.foursquare.com/v3/places/search\"\n",
    "    headers = {\"Authorization\": api_key}\n",
    "    params = {\n",
    "        'll': f\"{latitude},{longitude}\",\n",
    "        'radius': radius,\n",
    "        'categories': categories,\n",
    "        'limit': 50  # Adjust based on your needs\n",
    "    }\n",
    "\n",
    "    response = requests.get(url, headers=headers,\n",
    "                             params=params)\n",
    "    results = []\n",
    "    if response.status_code == 200:\n",
    "        places = response.json().get('results', [])\n",
    "        for place in places:\n",
    "            name = place.get('name')\n",
    "            categories_list = [category.get('name') for\n",
    "                                category in place.get('categories', [])]\n",
    "            category_names = ', '.join(categories_list)  # Concatenating all category names\n",
    "            results.append({\n",
    "                \"name\": name,\n",
    "                \"categories\": category_names,  # Adjusted to match the Yelp structure\n",
    "                \"station_name\": station_name  # Include station name in the result\n",
    "            })\n",
    "    else:\n",
    "        print(f\"Failed to fetch data. Status code: \n",
    "              {response.status_code}\")\n",
    "    return results"
   ]
  },
  {
   "attachments": {},
   "cell_type": "markdown",
   "metadata": {},
   "source": [
    "Parse through the response to get the POI (such as restaurants, bars, etc) details you want (ratings, name, location, etc)\n",
    "### my point of intrests are park, landmark and bar/pub and cafes."
   ]
  },
  {
   "cell_type": "code",
   "execution_count": 29,
   "metadata": {},
   "outputs": [
    {
     "name": "stdout",
     "output_type": "stream",
     "text": [
      "                   name   station_name                categories\n",
      "0  Parc de la Citadelle  Place Islande                      Park\n",
      "1          Pub la Belle  Place Islande                       Pub\n",
      "2          Le BarÔmètre  Place Islande  Bar, Brewery, Restaurant\n",
      "3              La Bamba  Place Islande                       Bar\n",
      "4      Le Quinze-Quinze  Place Islande           Bar, Restaurant\n"
     ]
    }
   ],
   "source": [
    "name_list_fs = []\n",
    "categories_list_fs = []\n",
    "station_list_fs = []\n",
    "\n",
    "\n",
    "categories = \"13003,16032,16020\"  \n",
    "radius = 500  # Radius in meters\n",
    "api_key = os.getenv(\"LHL_project\") \n",
    "\n",
    "\n",
    "for index, row in filtered_df.iterrows():\n",
    "    venues = get_venues_fs(row['Latitude'], row['Longitude'],\n",
    "                            radius, api_key, categories, row['Station Name'])\n",
    "    for venue in venues:\n",
    "        name_list_fs.append(venue['name'])\n",
    "        categories_list_fs.append(venue['categories'])\n",
    "        station_list_fs.append(venue['station_name'])\n",
    "\n",
    "df_foursquare = pd.DataFrame({\n",
    "    'name': name_list_fs,\n",
    "    'station_name': station_list_fs,\n",
    "    'categories': categories_list_fs\n",
    "})\n",
    "\n",
    "\n",
    "df_foursquare.to_csv('foursquare_data.csv', index=False)\n",
    "\n",
    "\n",
    "print(df_foursquare.head())"
   ]
  },
  {
   "attachments": {},
   "cell_type": "markdown",
   "metadata": {},
   "source": [
    "### saved my result as CSV ."
   ]
  },
  {
   "cell_type": "code",
   "execution_count": 44,
   "metadata": {},
   "outputs": [
    {
     "data": {
      "text/html": [
       "<div>\n",
       "<style scoped>\n",
       "    .dataframe tbody tr th:only-of-type {\n",
       "        vertical-align: middle;\n",
       "    }\n",
       "\n",
       "    .dataframe tbody tr th {\n",
       "        vertical-align: top;\n",
       "    }\n",
       "\n",
       "    .dataframe thead th {\n",
       "        text-align: right;\n",
       "    }\n",
       "</style>\n",
       "<table border=\"1\" class=\"dataframe\">\n",
       "  <thead>\n",
       "    <tr style=\"text-align: right;\">\n",
       "      <th></th>\n",
       "      <th>name</th>\n",
       "      <th>station_name</th>\n",
       "      <th>categories</th>\n",
       "    </tr>\n",
       "  </thead>\n",
       "  <tbody>\n",
       "    <tr>\n",
       "      <th>0</th>\n",
       "      <td>Parc de la Citadelle</td>\n",
       "      <td>Place Islande</td>\n",
       "      <td>Park</td>\n",
       "    </tr>\n",
       "    <tr>\n",
       "      <th>1</th>\n",
       "      <td>Pub la Belle</td>\n",
       "      <td>Place Islande</td>\n",
       "      <td>Pub</td>\n",
       "    </tr>\n",
       "    <tr>\n",
       "      <th>2</th>\n",
       "      <td>Le BarÔmètre</td>\n",
       "      <td>Place Islande</td>\n",
       "      <td>Bar, Brewery, Restaurant</td>\n",
       "    </tr>\n",
       "    <tr>\n",
       "      <th>3</th>\n",
       "      <td>La Bamba</td>\n",
       "      <td>Place Islande</td>\n",
       "      <td>Bar</td>\n",
       "    </tr>\n",
       "    <tr>\n",
       "      <th>4</th>\n",
       "      <td>Le Quinze-Quinze</td>\n",
       "      <td>Place Islande</td>\n",
       "      <td>Bar, Restaurant</td>\n",
       "    </tr>\n",
       "    <tr>\n",
       "      <th>5</th>\n",
       "      <td>SPYL</td>\n",
       "      <td>Place Islande</td>\n",
       "      <td>Night Club, Gay Bar</td>\n",
       "    </tr>\n",
       "    <tr>\n",
       "      <th>6</th>\n",
       "      <td>Académie de la Bière Cathédrale</td>\n",
       "      <td>Parking Broglie</td>\n",
       "      <td>Sports Bar, Brewery, Restaurant</td>\n",
       "    </tr>\n",
       "    <tr>\n",
       "      <th>7</th>\n",
       "      <td>Code Bar</td>\n",
       "      <td>Parking Broglie</td>\n",
       "      <td>Cocktail Bar, Lounge</td>\n",
       "    </tr>\n",
       "    <tr>\n",
       "      <th>8</th>\n",
       "      <td>L'Epicerie</td>\n",
       "      <td>Parking Broglie</td>\n",
       "      <td>Bar, Brasserie</td>\n",
       "    </tr>\n",
       "    <tr>\n",
       "      <th>9</th>\n",
       "      <td>Le Trolleybus</td>\n",
       "      <td>Parking Broglie</td>\n",
       "      <td>Cocktail Bar, Brasserie</td>\n",
       "    </tr>\n",
       "    <tr>\n",
       "      <th>10</th>\n",
       "      <td>La Nouvelle Poste</td>\n",
       "      <td>Parking Broglie</td>\n",
       "      <td>Bar, Pizzeria, Brasserie</td>\n",
       "    </tr>\n",
       "    <tr>\n",
       "      <th>11</th>\n",
       "      <td>La Mandragore</td>\n",
       "      <td>Parking Broglie</td>\n",
       "      <td>Bar</td>\n",
       "    </tr>\n",
       "    <tr>\n",
       "      <th>12</th>\n",
       "      <td>Bar le Saxo</td>\n",
       "      <td>Parking Broglie</td>\n",
       "      <td>Bar, Café, Coffee Shop</td>\n",
       "    </tr>\n",
       "    <tr>\n",
       "      <th>13</th>\n",
       "      <td>La Lanterne</td>\n",
       "      <td>Parking Broglie</td>\n",
       "      <td>Beer Bar, Brewery, Restaurant</td>\n",
       "    </tr>\n",
       "    <tr>\n",
       "      <th>14</th>\n",
       "      <td>Checkpoint Strasbourg</td>\n",
       "      <td>Parking Broglie</td>\n",
       "      <td>Bar</td>\n",
       "    </tr>\n",
       "    <tr>\n",
       "      <th>15</th>\n",
       "      <td>Le Gayot</td>\n",
       "      <td>Parking Broglie</td>\n",
       "      <td>Bar, Restaurant</td>\n",
       "    </tr>\n",
       "    <tr>\n",
       "      <th>16</th>\n",
       "      <td>Aux 12 Apotres</td>\n",
       "      <td>Parking Broglie</td>\n",
       "      <td>Bar, Bistro</td>\n",
       "    </tr>\n",
       "    <tr>\n",
       "      <th>17</th>\n",
       "      <td>Café Broglie</td>\n",
       "      <td>Parking Broglie</td>\n",
       "      <td>Bar, Coffee Shop, Brasserie</td>\n",
       "    </tr>\n",
       "    <tr>\n",
       "      <th>18</th>\n",
       "      <td>Le Schluch</td>\n",
       "      <td>Parking Broglie</td>\n",
       "      <td>Gay Bar, Pub</td>\n",
       "    </tr>\n",
       "    <tr>\n",
       "      <th>19</th>\n",
       "      <td>Delirium Bar</td>\n",
       "      <td>Parking Broglie</td>\n",
       "      <td>Beer Bar, Night Club</td>\n",
       "    </tr>\n",
       "    <tr>\n",
       "      <th>20</th>\n",
       "      <td>La Taverne Française</td>\n",
       "      <td>Parking Broglie</td>\n",
       "      <td>Bar, Coffee Shop, Brasserie</td>\n",
       "    </tr>\n",
       "    <tr>\n",
       "      <th>21</th>\n",
       "      <td>Bar l'appart Strasbourg</td>\n",
       "      <td>Parking Broglie</td>\n",
       "      <td>Bar</td>\n",
       "    </tr>\n",
       "    <tr>\n",
       "      <th>22</th>\n",
       "      <td>Square Markos Botzaris</td>\n",
       "      <td>Parking Broglie</td>\n",
       "      <td>Park</td>\n",
       "    </tr>\n",
       "    <tr>\n",
       "      <th>23</th>\n",
       "      <td>BAR Restaurant Cintra Strasbourg</td>\n",
       "      <td>Parking Broglie</td>\n",
       "      <td>Bar, Restaurant</td>\n",
       "    </tr>\n",
       "    <tr>\n",
       "      <th>24</th>\n",
       "      <td>La Cigogne</td>\n",
       "      <td>Parking Broglie</td>\n",
       "      <td>Bar, Fast Food Restaurant, French Restaurant</td>\n",
       "    </tr>\n",
       "    <tr>\n",
       "      <th>25</th>\n",
       "      <td>Brasserie Parisienne</td>\n",
       "      <td>Parking Broglie</td>\n",
       "      <td>Bar, Café, Coffee Shop</td>\n",
       "    </tr>\n",
       "    <tr>\n",
       "      <th>26</th>\n",
       "      <td>Europa Park</td>\n",
       "      <td>Parking Broglie</td>\n",
       "      <td>Park</td>\n",
       "    </tr>\n",
       "    <tr>\n",
       "      <th>27</th>\n",
       "      <td>Barberousse Strasbourg</td>\n",
       "      <td>Parking Broglie</td>\n",
       "      <td>Night Club, Bar</td>\n",
       "    </tr>\n",
       "    <tr>\n",
       "      <th>28</th>\n",
       "      <td>Café Bar de l'Odyssée</td>\n",
       "      <td>Parking Broglie</td>\n",
       "      <td>Lounge, Café, Coffee Shop</td>\n",
       "    </tr>\n",
       "    <tr>\n",
       "      <th>29</th>\n",
       "      <td>Le Korrigan</td>\n",
       "      <td>Parking Broglie</td>\n",
       "      <td>Beer Bar, Restaurant</td>\n",
       "    </tr>\n",
       "  </tbody>\n",
       "</table>\n",
       "</div>"
      ],
      "text/plain": [
       "                                name     station_name  \\\n",
       "0               Parc de la Citadelle    Place Islande   \n",
       "1                       Pub la Belle    Place Islande   \n",
       "2                       Le BarÔmètre    Place Islande   \n",
       "3                           La Bamba    Place Islande   \n",
       "4                   Le Quinze-Quinze    Place Islande   \n",
       "5                               SPYL    Place Islande   \n",
       "6    Académie de la Bière Cathédrale  Parking Broglie   \n",
       "7                           Code Bar  Parking Broglie   \n",
       "8                         L'Epicerie  Parking Broglie   \n",
       "9                      Le Trolleybus  Parking Broglie   \n",
       "10                 La Nouvelle Poste  Parking Broglie   \n",
       "11                     La Mandragore  Parking Broglie   \n",
       "12                       Bar le Saxo  Parking Broglie   \n",
       "13                       La Lanterne  Parking Broglie   \n",
       "14             Checkpoint Strasbourg  Parking Broglie   \n",
       "15                          Le Gayot  Parking Broglie   \n",
       "16                    Aux 12 Apotres  Parking Broglie   \n",
       "17                      Café Broglie  Parking Broglie   \n",
       "18                        Le Schluch  Parking Broglie   \n",
       "19                      Delirium Bar  Parking Broglie   \n",
       "20              La Taverne Française  Parking Broglie   \n",
       "21           Bar l'appart Strasbourg  Parking Broglie   \n",
       "22            Square Markos Botzaris  Parking Broglie   \n",
       "23  BAR Restaurant Cintra Strasbourg  Parking Broglie   \n",
       "24                        La Cigogne  Parking Broglie   \n",
       "25              Brasserie Parisienne  Parking Broglie   \n",
       "26                       Europa Park  Parking Broglie   \n",
       "27            Barberousse Strasbourg  Parking Broglie   \n",
       "28             Café Bar de l'Odyssée  Parking Broglie   \n",
       "29                       Le Korrigan  Parking Broglie   \n",
       "\n",
       "                                      categories  \n",
       "0                                           Park  \n",
       "1                                            Pub  \n",
       "2                       Bar, Brewery, Restaurant  \n",
       "3                                            Bar  \n",
       "4                                Bar, Restaurant  \n",
       "5                            Night Club, Gay Bar  \n",
       "6                Sports Bar, Brewery, Restaurant  \n",
       "7                           Cocktail Bar, Lounge  \n",
       "8                                 Bar, Brasserie  \n",
       "9                        Cocktail Bar, Brasserie  \n",
       "10                      Bar, Pizzeria, Brasserie  \n",
       "11                                           Bar  \n",
       "12                        Bar, Café, Coffee Shop  \n",
       "13                 Beer Bar, Brewery, Restaurant  \n",
       "14                                           Bar  \n",
       "15                               Bar, Restaurant  \n",
       "16                                   Bar, Bistro  \n",
       "17                   Bar, Coffee Shop, Brasserie  \n",
       "18                                  Gay Bar, Pub  \n",
       "19                          Beer Bar, Night Club  \n",
       "20                   Bar, Coffee Shop, Brasserie  \n",
       "21                                           Bar  \n",
       "22                                          Park  \n",
       "23                               Bar, Restaurant  \n",
       "24  Bar, Fast Food Restaurant, French Restaurant  \n",
       "25                        Bar, Café, Coffee Shop  \n",
       "26                                          Park  \n",
       "27                               Night Club, Bar  \n",
       "28                     Lounge, Café, Coffee Shop  \n",
       "29                          Beer Bar, Restaurant  "
      ]
     },
     "execution_count": 44,
     "metadata": {},
     "output_type": "execute_result"
    }
   ],
   "source": [
    "df_foursquare.to_csv('foursquare_data.csv', index=False)\n",
    "df_foursquare.head(30)"
   ]
  },
  {
   "attachments": {},
   "cell_type": "markdown",
   "metadata": {},
   "source": [
    "### getting info about my table and since they are gategorial the results are the uniqueness and count."
   ]
  },
  {
   "cell_type": "code",
   "execution_count": 45,
   "metadata": {},
   "outputs": [
    {
     "data": {
      "text/html": [
       "<div>\n",
       "<style scoped>\n",
       "    .dataframe tbody tr th:only-of-type {\n",
       "        vertical-align: middle;\n",
       "    }\n",
       "\n",
       "    .dataframe tbody tr th {\n",
       "        vertical-align: top;\n",
       "    }\n",
       "\n",
       "    .dataframe thead th {\n",
       "        text-align: right;\n",
       "    }\n",
       "</style>\n",
       "<table border=\"1\" class=\"dataframe\">\n",
       "  <thead>\n",
       "    <tr style=\"text-align: right;\">\n",
       "      <th></th>\n",
       "      <th>name</th>\n",
       "      <th>station_name</th>\n",
       "      <th>categories</th>\n",
       "    </tr>\n",
       "  </thead>\n",
       "  <tbody>\n",
       "    <tr>\n",
       "      <th>count</th>\n",
       "      <td>302</td>\n",
       "      <td>302</td>\n",
       "      <td>302</td>\n",
       "    </tr>\n",
       "    <tr>\n",
       "      <th>unique</th>\n",
       "      <td>174</td>\n",
       "      <td>20</td>\n",
       "      <td>83</td>\n",
       "    </tr>\n",
       "    <tr>\n",
       "      <th>top</th>\n",
       "      <td>Moove Lounge Bar</td>\n",
       "      <td>Centre</td>\n",
       "      <td>Bar</td>\n",
       "    </tr>\n",
       "    <tr>\n",
       "      <th>freq</th>\n",
       "      <td>4</td>\n",
       "      <td>44</td>\n",
       "      <td>41</td>\n",
       "    </tr>\n",
       "  </tbody>\n",
       "</table>\n",
       "</div>"
      ],
      "text/plain": [
       "                    name station_name categories\n",
       "count                302          302        302\n",
       "unique               174           20         83\n",
       "top     Moove Lounge Bar       Centre        Bar\n",
       "freq                   4           44         41"
      ]
     },
     "execution_count": 45,
     "metadata": {},
     "output_type": "execute_result"
    }
   ],
   "source": [
    "df_foursquare.describe()"
   ]
  },
  {
   "attachments": {},
   "cell_type": "markdown",
   "metadata": {},
   "source": [
    "### looking at how many rows and columns exist."
   ]
  },
  {
   "cell_type": "code",
   "execution_count": 46,
   "metadata": {},
   "outputs": [
    {
     "data": {
      "text/plain": [
       "(302, 3)"
      ]
     },
     "execution_count": 46,
     "metadata": {},
     "output_type": "execute_result"
    }
   ],
   "source": [
    "df_foursquare.shape"
   ]
  },
  {
   "attachments": {},
   "cell_type": "markdown",
   "metadata": {},
   "source": [
    "### getting info about the tale "
   ]
  },
  {
   "cell_type": "code",
   "execution_count": 40,
   "metadata": {},
   "outputs": [
    {
     "name": "stdout",
     "output_type": "stream",
     "text": [
      "<class 'pandas.core.frame.DataFrame'>\n",
      "RangeIndex: 302 entries, 0 to 301\n",
      "Data columns (total 3 columns):\n",
      " #   Column        Non-Null Count  Dtype \n",
      "---  ------        --------------  ----- \n",
      " 0   name          302 non-null    object\n",
      " 1   station_name  302 non-null    object\n",
      " 2   categories    302 non-null    object\n",
      "dtypes: object(3)\n",
      "memory usage: 7.2+ KB\n"
     ]
    }
   ],
   "source": [
    "df_foursquare.info()"
   ]
  },
  {
   "attachments": {},
   "cell_type": "markdown",
   "metadata": {},
   "source": [
    "### chechikng for duplication"
   ]
  },
  {
   "cell_type": "code",
   "execution_count": 33,
   "metadata": {},
   "outputs": [
    {
     "name": "stdout",
     "output_type": "stream",
     "text": [
      "Are there any duplicates (considering all columns)? False\n"
     ]
    }
   ],
   "source": [
    "duplicates_all = df_foursquare.duplicated()\n",
    "print(f\"Are there any duplicates (considering all columns)? {duplicates_all.any()}\")"
   ]
  },
  {
   "attachments": {},
   "cell_type": "markdown",
   "metadata": {},
   "source": [
    "### looking for nulls"
   ]
  },
  {
   "cell_type": "code",
   "execution_count": 49,
   "metadata": {},
   "outputs": [
    {
     "data": {
      "text/plain": [
       "name            False\n",
       "station_name    False\n",
       "categories      False\n",
       "dtype: bool"
      ]
     },
     "execution_count": 49,
     "metadata": {},
     "output_type": "execute_result"
    }
   ],
   "source": [
    "df_foursquare.isnull().any()"
   ]
  },
  {
   "attachments": {},
   "cell_type": "markdown",
   "metadata": {},
   "source": [
    "# Yelp"
   ]
  },
  {
   "attachments": {},
   "cell_type": "markdown",
   "metadata": {},
   "source": [
    "Send a request to Yelp with a small radius (1000m) for all the bike stations in your city of choice. \n",
    "### sending request to Foursquare using citybike radius that i have."
   ]
  },
  {
   "cell_type": "code",
   "execution_count": 34,
   "metadata": {},
   "outputs": [],
   "source": [
    "def query_yelp_categories(latitude, longitude, categories, radius=500):\n",
    "    \n",
    "    api_key = os.getenv('Yelp_key')  \n",
    "    url = \"https://api.yelp.com/v3/businesses/search\"\n",
    "    headers = {\"Authorization\": f\"Bearer {api_key}\"}\n",
    "    params = {\n",
    "        \"latitude\": latitude,\n",
    "        \"longitude\": longitude,\n",
    "        \"categories\": categories,\n",
    "        \"radius\": radius,\n",
    "        \"limit\": 50 \n",
    "    }\n",
    "\n",
    "    response = requests.get(url, headers=headers, params=params)\n",
    "    if response.status_code == 200:\n",
    "        businesses = response.json()['businesses']\n",
    "        results = []\n",
    "        for business in businesses:\n",
    "            name = business['name']\n",
    "            categories_list = [category['title'] for \n",
    "                               category in business['categories']]\n",
    "            results.append({\"name\": name, \"categories\": ', '\n",
    "                            .join(categories_list)})\n",
    "        return results\n",
    "    else:\n",
    "        print(f\"Failed to fetch data: {response.status_code}\")\n",
    "        return []\n"
   ]
  },
  {
   "attachments": {},
   "cell_type": "markdown",
   "metadata": {},
   "source": [
    "Parse through the response to get the POI (such as restaurants, bars, etc) details you want (ratings, name, location, etc)\n",
    "### my point of intrests are park, landmark and bar/pub and cafes."
   ]
  },
  {
   "cell_type": "code",
   "execution_count": 35,
   "metadata": {},
   "outputs": [
    {
     "data": {
      "text/html": [
       "<div>\n",
       "<style scoped>\n",
       "    .dataframe tbody tr th:only-of-type {\n",
       "        vertical-align: middle;\n",
       "    }\n",
       "\n",
       "    .dataframe tbody tr th {\n",
       "        vertical-align: top;\n",
       "    }\n",
       "\n",
       "    .dataframe thead th {\n",
       "        text-align: right;\n",
       "    }\n",
       "</style>\n",
       "<table border=\"1\" class=\"dataframe\">\n",
       "  <thead>\n",
       "    <tr style=\"text-align: right;\">\n",
       "      <th></th>\n",
       "      <th>name</th>\n",
       "      <th>station_name</th>\n",
       "      <th>categories</th>\n",
       "    </tr>\n",
       "  </thead>\n",
       "  <tbody>\n",
       "    <tr>\n",
       "      <th>0</th>\n",
       "      <td>The Irish Pub</td>\n",
       "      <td>Place Islande</td>\n",
       "      <td>Pubs</td>\n",
       "    </tr>\n",
       "    <tr>\n",
       "      <th>1</th>\n",
       "      <td>Spyl</td>\n",
       "      <td>Place Islande</td>\n",
       "      <td>Dance Clubs, Bars</td>\n",
       "    </tr>\n",
       "    <tr>\n",
       "      <th>2</th>\n",
       "      <td>Mezzanine of London</td>\n",
       "      <td>Place Islande</td>\n",
       "      <td>Bars, Dance Clubs, Tapas Bars</td>\n",
       "    </tr>\n",
       "    <tr>\n",
       "      <th>3</th>\n",
       "      <td>Le Barômètre</td>\n",
       "      <td>Place Islande</td>\n",
       "      <td>Bars, Brasseries, Bistros</td>\n",
       "    </tr>\n",
       "    <tr>\n",
       "      <th>4</th>\n",
       "      <td>imada</td>\n",
       "      <td>Place Islande</td>\n",
       "      <td>Landmarks &amp; Historical Buildings</td>\n",
       "    </tr>\n",
       "    <tr>\n",
       "      <th>...</th>\n",
       "      <td>...</td>\n",
       "      <td>...</td>\n",
       "      <td>...</td>\n",
       "    </tr>\n",
       "    <tr>\n",
       "      <th>267</th>\n",
       "      <td>Le Garde Fou</td>\n",
       "      <td>Gare Nord</td>\n",
       "      <td>Pubs</td>\n",
       "    </tr>\n",
       "    <tr>\n",
       "      <th>268</th>\n",
       "      <td>Au Camionneur</td>\n",
       "      <td>Gare Nord</td>\n",
       "      <td>Restaurants, Bars</td>\n",
       "    </tr>\n",
       "    <tr>\n",
       "      <th>269</th>\n",
       "      <td>La Solidarité</td>\n",
       "      <td>Gare Nord</td>\n",
       "      <td>French, Bars</td>\n",
       "    </tr>\n",
       "    <tr>\n",
       "      <th>270</th>\n",
       "      <td>Brasserie WOW</td>\n",
       "      <td>Gare Nord</td>\n",
       "      <td>Bars, Brasseries</td>\n",
       "    </tr>\n",
       "    <tr>\n",
       "      <th>271</th>\n",
       "      <td>Le Jardin des Deux Rives</td>\n",
       "      <td>Auberge de jeunesse</td>\n",
       "      <td>Parks</td>\n",
       "    </tr>\n",
       "  </tbody>\n",
       "</table>\n",
       "<p>272 rows × 3 columns</p>\n",
       "</div>"
      ],
      "text/plain": [
       "                         name         station_name  \\\n",
       "0               The Irish Pub        Place Islande   \n",
       "1                        Spyl        Place Islande   \n",
       "2         Mezzanine of London        Place Islande   \n",
       "3                Le Barômètre        Place Islande   \n",
       "4                       imada        Place Islande   \n",
       "..                        ...                  ...   \n",
       "267              Le Garde Fou            Gare Nord   \n",
       "268             Au Camionneur            Gare Nord   \n",
       "269             La Solidarité            Gare Nord   \n",
       "270             Brasserie WOW            Gare Nord   \n",
       "271  Le Jardin des Deux Rives  Auberge de jeunesse   \n",
       "\n",
       "                           categories  \n",
       "0                                Pubs  \n",
       "1                   Dance Clubs, Bars  \n",
       "2       Bars, Dance Clubs, Tapas Bars  \n",
       "3           Bars, Brasseries, Bistros  \n",
       "4    Landmarks & Historical Buildings  \n",
       "..                                ...  \n",
       "267                              Pubs  \n",
       "268                 Restaurants, Bars  \n",
       "269                      French, Bars  \n",
       "270                  Bars, Brasseries  \n",
       "271                             Parks  \n",
       "\n",
       "[272 rows x 3 columns]"
      ]
     },
     "execution_count": 35,
     "metadata": {},
     "output_type": "execute_result"
    }
   ],
   "source": [
    "# Initializing lists for storing data\n",
    "name_list = []\n",
    "cat_list = []\n",
    "loc_list = []\n",
    "\n",
    "# Iterating over each row in filtered_df(the table for city bike to use lat and long to find places near by) to query Yelp\n",
    "\n",
    "for index, row in filtered_df.iterrows():\n",
    "    station_name = row['Station Name']\n",
    "    latitude = row['Latitude']\n",
    "    longitude = row['Longitude']\n",
    "    categories = \"bars,parks,landmarks\"\n",
    "    \n",
    "    # Query Yelp for the categories based on the station's location\n",
    "    yelp_results = query_yelp_categories(latitude, longitude, \n",
    "                                         categories, radius=500)\n",
    "    \n",
    "    for result in yelp_results:\n",
    "        name_list.append(result['name'])\n",
    "        cat_list.append(result['categories'])\n",
    "        loc_list.append(station_name)\n",
    "\n",
    "# Create a DataFrame with the collected data\n",
    "df_yelp = pd.DataFrame({\n",
    "    'name': name_list,\n",
    "    'station_name': loc_list,\n",
    "    'categories': cat_list\n",
    "})\n",
    "df_yelp.to_csv('yelp_data.csv', index=False)\n",
    "df_yelp"
   ]
  },
  {
   "attachments": {},
   "cell_type": "markdown",
   "metadata": {},
   "source": [
    "### looking at how many rows and columns exist."
   ]
  },
  {
   "cell_type": "code",
   "execution_count": 38,
   "metadata": {},
   "outputs": [
    {
     "data": {
      "text/plain": [
       "(272, 3)"
      ]
     },
     "execution_count": 38,
     "metadata": {},
     "output_type": "execute_result"
    }
   ],
   "source": [
    "df_yelp.shape "
   ]
  },
  {
   "attachments": {},
   "cell_type": "markdown",
   "metadata": {},
   "source": [
    "### getting info about my table and since they are gategorial the results are the uniqueness and count."
   ]
  },
  {
   "cell_type": "code",
   "execution_count": 39,
   "metadata": {},
   "outputs": [
    {
     "data": {
      "text/html": [
       "<div>\n",
       "<style scoped>\n",
       "    .dataframe tbody tr th:only-of-type {\n",
       "        vertical-align: middle;\n",
       "    }\n",
       "\n",
       "    .dataframe tbody tr th {\n",
       "        vertical-align: top;\n",
       "    }\n",
       "\n",
       "    .dataframe thead th {\n",
       "        text-align: right;\n",
       "    }\n",
       "</style>\n",
       "<table border=\"1\" class=\"dataframe\">\n",
       "  <thead>\n",
       "    <tr style=\"text-align: right;\">\n",
       "      <th></th>\n",
       "      <th>name</th>\n",
       "      <th>station_name</th>\n",
       "      <th>categories</th>\n",
       "    </tr>\n",
       "  </thead>\n",
       "  <tbody>\n",
       "    <tr>\n",
       "      <th>count</th>\n",
       "      <td>272</td>\n",
       "      <td>272</td>\n",
       "      <td>272</td>\n",
       "    </tr>\n",
       "    <tr>\n",
       "      <th>unique</th>\n",
       "      <td>141</td>\n",
       "      <td>20</td>\n",
       "      <td>81</td>\n",
       "    </tr>\n",
       "    <tr>\n",
       "      <th>top</th>\n",
       "      <td>Troc'afé</td>\n",
       "      <td>Centre</td>\n",
       "      <td>Bars</td>\n",
       "    </tr>\n",
       "    <tr>\n",
       "      <th>freq</th>\n",
       "      <td>4</td>\n",
       "      <td>50</td>\n",
       "      <td>39</td>\n",
       "    </tr>\n",
       "  </tbody>\n",
       "</table>\n",
       "</div>"
      ],
      "text/plain": [
       "            name station_name categories\n",
       "count        272          272        272\n",
       "unique       141           20         81\n",
       "top     Troc'afé       Centre       Bars\n",
       "freq           4           50         39"
      ]
     },
     "execution_count": 39,
     "metadata": {},
     "output_type": "execute_result"
    }
   ],
   "source": [
    "df_yelp.describe()"
   ]
  },
  {
   "attachments": {},
   "cell_type": "markdown",
   "metadata": {},
   "source": [
    "### saved my result as CSV ."
   ]
  },
  {
   "cell_type": "code",
   "execution_count": null,
   "metadata": {},
   "outputs": [],
   "source": [
    "df=df_yelp.to_csv('../data/Yelp.csv')"
   ]
  },
  {
   "attachments": {},
   "cell_type": "markdown",
   "metadata": {},
   "source": [
    "### getting info about the tale "
   ]
  },
  {
   "cell_type": "code",
   "execution_count": null,
   "metadata": {},
   "outputs": [
    {
     "name": "stdout",
     "output_type": "stream",
     "text": [
      "<class 'pandas.core.frame.DataFrame'>\n",
      "RangeIndex: 272 entries, 0 to 271\n",
      "Data columns (total 3 columns):\n",
      " #   Column        Non-Null Count  Dtype \n",
      "---  ------        --------------  ----- \n",
      " 0   name          272 non-null    object\n",
      " 1   station_name  272 non-null    object\n",
      " 2   categories    272 non-null    object\n",
      "dtypes: object(3)\n",
      "memory usage: 6.5+ KB\n"
     ]
    }
   ],
   "source": [
    "df_yelp.info()"
   ]
  },
  {
   "attachments": {},
   "cell_type": "markdown",
   "metadata": {},
   "source": [
    "### chechikng for duplication"
   ]
  },
  {
   "cell_type": "code",
   "execution_count": 50,
   "metadata": {},
   "outputs": [
    {
     "name": "stdout",
     "output_type": "stream",
     "text": [
      "Are there any duplicates (considering all columns)? False\n"
     ]
    }
   ],
   "source": [
    "duplicates_all = df_yelp.duplicated()\n",
    "print(f\"Are there any duplicates (considering all columns)?\n",
    "       {duplicates_all.any()}\")"
   ]
  },
  {
   "attachments": {},
   "cell_type": "markdown",
   "metadata": {},
   "source": [
    "### looking for nulls"
   ]
  },
  {
   "cell_type": "code",
   "execution_count": 51,
   "metadata": {},
   "outputs": [
    {
     "data": {
      "text/plain": [
       "name            False\n",
       "station_name    False\n",
       "categories      False\n",
       "dtype: bool"
      ]
     },
     "execution_count": 51,
     "metadata": {},
     "output_type": "execute_result"
    }
   ],
   "source": [
    "df_yelp.isnull().any()"
   ]
  },
  {
   "attachments": {},
   "cell_type": "markdown",
   "metadata": {},
   "source": [
    "# Comparing Results"
   ]
  },
  {
   "attachments": {},
   "cell_type": "markdown",
   "metadata": {},
   "source": [
    "Which API provided you with more complete data? Provide an explanation.\n",
    "\n",
    "### Forsqure shown to have more information based on it's shape and value count."
   ]
  },
  {
   "attachments": {},
   "cell_type": "markdown",
   "metadata": {},
   "source": [
    "The forsqure have returned with more data compeared to yelp."
   ]
  },
  {
   "attachments": {},
   "cell_type": "markdown",
   "metadata": {},
   "source": [
    "Get the top 10 restaurants according to their rating."
   ]
  },
  {
   "cell_type": "code",
   "execution_count": null,
   "metadata": {},
   "outputs": [
    {
     "name": "stdout",
     "output_type": "stream",
     "text": [
      "                        name         station_name  \\\n",
      "0        Steakhouse District      Parking Broglie   \n",
      "1      Restaurant au Tilleul        Hoenheim Gare   \n",
      "2        Steakhouse District   Parking Austerlitz   \n",
      "3        Steakhouse District   Gare de Strasbourg   \n",
      "4        Steakhouse District               Centre   \n",
      "5        Steakhouse District             Gare Sud   \n",
      "6        Steakhouse District           Les Halles   \n",
      "7        Steakhouse District            Gare Nord   \n",
      "8  Villa Schmidt Gastro GmbH  Auberge de jeunesse   \n",
      "\n",
      "                               categories  rating  \n",
      "0                   BBQ Joint, Steakhouse       0  \n",
      "1  BBQ Joint, Pizzeria, French Restaurant       0  \n",
      "2                   BBQ Joint, Steakhouse       0  \n",
      "3                   BBQ Joint, Steakhouse       0  \n",
      "4                   BBQ Joint, Steakhouse       0  \n",
      "5                   BBQ Joint, Steakhouse       0  \n",
      "6                   BBQ Joint, Steakhouse       0  \n",
      "7                   BBQ Joint, Steakhouse       0  \n",
      "8                   Restaurant, BBQ Joint       0  \n"
     ]
    }
   ],
   "source": [
    "import pandas as pd\n",
    "import requests\n",
    "import os\n",
    "\n",
    "def get_top_rated_venues(latitude, longitude, radius, api_key, \n",
    "                         categories, station_name, limit=50):\n",
    "    \n",
    "    url = \"https://api.foursquare.com/v3/places/search\"\n",
    "    headers = {\"Authorization\": api_key}\n",
    "    params = {\n",
    "        'll': f\"{latitude},{longitude}\",\n",
    "        'radius': radius,\n",
    "        'categories': categories,\n",
    "        'limit': limit,\n",
    "    }\n",
    "\n",
    "    response = requests.get(url, headers=headers, params=params)\n",
    "    venues = []\n",
    "    if response.status_code == 200:\n",
    "        places = response.json().get('results', [])\n",
    "        for place in places:\n",
    "            name = place.get('name')\n",
    "            rating = place.get('rating', 0)  \n",
    "            categories_list = [category.get('name') for category\n",
    "                                in place.get('categories', [])]\n",
    "            \n",
    "            category_names = ', '.join(categories_list)\n",
    "            venues.append({\n",
    "                \"name\": name,\n",
    "                \"rating\": rating,\n",
    "                \"categories\": category_names,\n",
    "                \"station_name\": station_name\n",
    "            })\n",
    "       \n",
    "        return sorted(venues, key=lambda x: x['rating'], reverse=True)[:10]\n",
    "    else:\n",
    "        print(f\"Failed to fetch data. Status code: {response.status_code}\")\n",
    "        return []\n",
    "\n",
    "\n",
    "api_key = os.getenv(\"LHL_project\")\n",
    "categories = \"13026\"  \n",
    "radius = 1000  \n",
    "\n",
    "\n",
    "name_list_fs = []\n",
    "categories_list_fs = []\n",
    "station_list_fs = []\n",
    "rating_list_fs = []\n",
    "\n",
    "\n",
    "for index, row in filtered_df.iterrows():\n",
    "    venues = get_top_rated_venues(row['Latitude'], row['Longitude'], \n",
    "                                  radius, api_key, categories, row['Station Name'])\n",
    "    \n",
    "    for venue in venues:\n",
    "        name_list_fs.append(venue['name'])\n",
    "        categories_list_fs.append(venue['categories'])\n",
    "        station_list_fs.append(venue['station_name'])\n",
    "        rating_list_fs.append(venue['rating'])\n",
    "\n",
    "\n",
    "df_foursquare = pd.DataFrame({\n",
    "    'name': name_list_fs,\n",
    "    'station_name': station_list_fs,\n",
    "    'categories': categories_list_fs,\n",
    "    'rating': rating_list_fs\n",
    "})\n",
    "\n",
    "\n",
    "df_foursquare_sorted = df_foursquare.sort_values(by='rating', \n",
    "                                                 ascending=False).reset_index(drop=True)\n",
    "\n",
    "print(df_foursquare_sorted.head(10))\n",
    "\n"
   ]
  },
  {
   "cell_type": "code",
   "execution_count": null,
   "metadata": {},
   "outputs": [],
   "source": []
  }
 ],
 "metadata": {
  "kernelspec": {
   "display_name": "Python 3",
   "language": "python",
   "name": "python3"
  },
  "language_info": {
   "codemirror_mode": {
    "name": "ipython",
    "version": 3
   },
   "file_extension": ".py",
   "mimetype": "text/x-python",
   "name": "python",
   "nbconvert_exporter": "python",
   "pygments_lexer": "ipython3",
   "version": "3.11.7"
  }
 },
 "nbformat": 4,
 "nbformat_minor": 4
}
