{
 "cells": [
  {
   "attachments": {},
   "cell_type": "markdown",
   "metadata": {},
   "source": [
    "Join the data from Part 1 with the data from Part 2 to create a new dataframe."
   ]
  },
  {
   "cell_type": "code",
   "execution_count": 30,
   "metadata": {},
   "outputs": [],
   "source": [
    "import json \n",
    "import pandas as pd\n",
    "\n",
    "import os"
   ]
  },
  {
   "attachments": {},
   "cell_type": "markdown",
   "metadata": {},
   "source": [
    "### saved my result as CSV and now using it."
   ]
  },
  {
   "cell_type": "code",
   "execution_count": 31,
   "metadata": {},
   "outputs": [],
   "source": [
    "filtered_df= pd.read_csv('../data/Bikes.csv', index_col=0)"
   ]
  },
  {
   "cell_type": "code",
   "execution_count": 32,
   "metadata": {},
   "outputs": [],
   "source": [
    "df_yelp= pd.read_csv('../data/Yelp.csv', index_col=0)"
   ]
  },
  {
   "attachments": {},
   "cell_type": "markdown",
   "metadata": {},
   "source": [
    "### since there is a code for getting the POI, I wanted to make sure there aren't other categories in between the results that i got."
   ]
  },
  {
   "cell_type": "code",
   "execution_count": 33,
   "metadata": {},
   "outputs": [
    {
     "name": "stdout",
     "output_type": "stream",
     "text": [
      "         Nearest Station                            Venue Name  \\\n",
      "4          Place Islande                                 imada   \n",
      "37       Parking Broglie                Opéra National du Rhin   \n",
      "40       Parking Broglie    Chambre de Commerce et d'Industrie   \n",
      "48       Parking Broglie                     Maison Kammerzell   \n",
      "92    Parking Austerlitz    Chambre de Commerce et d'Industrie   \n",
      "101   Parking Austerlitz                     Maison Kammerzell   \n",
      "102   Parking Austerlitz                   Quais des Bateliers   \n",
      "103   Parking Austerlitz                      Monumento Goethe   \n",
      "107   Parking Austerlitz                Quai du Général Koenig   \n",
      "108        Koenigshoffen  Cimetière israélite de Koenigshoffen   \n",
      "124   Gare de Strasbourg             La Passerelle des Moulins   \n",
      "160               Centre    Chambre de Commerce et d'Industrie   \n",
      "168               Centre                      Monumento Goethe   \n",
      "171               Centre                     Pont Saint-Martin   \n",
      "172               Centre                     Maison Kammerzell   \n",
      "174               Centre                   Quais des Bateliers   \n",
      "186             Gare Sud                        Ponts-Couverts   \n",
      "206   Robertsau Boecklin                   Conseil de l'Europe   \n",
      "233  Boutique Université                     Quai des Pêcheurs   \n",
      "\n",
      "                                              Category  \n",
      "4                     Landmarks & Historical Buildings  \n",
      "37                    Landmarks & Historical Buildings  \n",
      "40             Landmarks & Historical Buildings, Tours  \n",
      "48                    Landmarks & Historical Buildings  \n",
      "92             Landmarks & Historical Buildings, Tours  \n",
      "101                   Landmarks & Historical Buildings  \n",
      "102  Bookstores, Boat Charters, Landmarks & Histori...  \n",
      "103                   Landmarks & Historical Buildings  \n",
      "107                   Landmarks & Historical Buildings  \n",
      "108                   Landmarks & Historical Buildings  \n",
      "124      Restaurants, Landmarks & Historical Buildings  \n",
      "160            Landmarks & Historical Buildings, Tours  \n",
      "168                   Landmarks & Historical Buildings  \n",
      "171                   Landmarks & Historical Buildings  \n",
      "172                   Landmarks & Historical Buildings  \n",
      "174  Bookstores, Boat Charters, Landmarks & Histori...  \n",
      "186      Dance Clubs, Landmarks & Historical Buildings  \n",
      "206                   Landmarks & Historical Buildings  \n",
      "233                   Landmarks & Historical Buildings  \n"
     ]
    }
   ],
   "source": [
    "# Filter out parks and landmarks from df_yelp\n",
    "other_categories_yelp = df_yelp[df_yelp['categories']\n",
    "                                .str.contains('Landmarks', case=False, regex=True)]\n",
    "\n",
    "# renaming the relevant columns for clarity\n",
    "other_categories_table_yelp = other_categories_yelp[['station_name',\n",
    "                                                      'name', 'categories']].copy()\n",
    "other_categories_table_yelp.columns = ['Nearest Station', \n",
    "                                       'Venue Name', 'Category']\n",
    "\n",
    "\n",
    "print(other_categories_table_yelp)"
   ]
  },
  {
   "cell_type": "code",
   "execution_count": 34,
   "metadata": {},
   "outputs": [
    {
     "name": "stdout",
     "output_type": "stream",
     "text": [
      "         Nearest Station                            Venue Name  \\\n",
      "4          Place Islande                                 imada   \n",
      "24       Parking Broglie                 Café Bar de l'Odyssée   \n",
      "37       Parking Broglie                Opéra National du Rhin   \n",
      "40       Parking Broglie    Chambre de Commerce et d'Industrie   \n",
      "48       Parking Broglie                     Maison Kammerzell   \n",
      "92    Parking Austerlitz    Chambre de Commerce et d'Industrie   \n",
      "101   Parking Austerlitz                     Maison Kammerzell   \n",
      "102   Parking Austerlitz                   Quais des Bateliers   \n",
      "103   Parking Austerlitz                      Monumento Goethe   \n",
      "107   Parking Austerlitz                Quai du Général Koenig   \n",
      "108        Koenigshoffen  Cimetière israélite de Koenigshoffen   \n",
      "124   Gare de Strasbourg             La Passerelle des Moulins   \n",
      "152               Centre                 Café Bar de l'Odyssée   \n",
      "160               Centre    Chambre de Commerce et d'Industrie   \n",
      "168               Centre                      Monumento Goethe   \n",
      "171               Centre                     Pont Saint-Martin   \n",
      "172               Centre                     Maison Kammerzell   \n",
      "174               Centre                   Quais des Bateliers   \n",
      "186             Gare Sud                        Ponts-Couverts   \n",
      "206   Robertsau Boecklin                   Conseil de l'Europe   \n",
      "233  Boutique Université                     Quai des Pêcheurs   \n",
      "\n",
      "                                              Category  \n",
      "4                     Landmarks & Historical Buildings  \n",
      "24                      Street Vendors, Lounges, Cafes  \n",
      "37                    Landmarks & Historical Buildings  \n",
      "40             Landmarks & Historical Buildings, Tours  \n",
      "48                    Landmarks & Historical Buildings  \n",
      "92             Landmarks & Historical Buildings, Tours  \n",
      "101                   Landmarks & Historical Buildings  \n",
      "102  Bookstores, Boat Charters, Landmarks & Histori...  \n",
      "103                   Landmarks & Historical Buildings  \n",
      "107                   Landmarks & Historical Buildings  \n",
      "108                   Landmarks & Historical Buildings  \n",
      "124      Restaurants, Landmarks & Historical Buildings  \n",
      "152                     Street Vendors, Lounges, Cafes  \n",
      "160            Landmarks & Historical Buildings, Tours  \n",
      "168                   Landmarks & Historical Buildings  \n",
      "171                   Landmarks & Historical Buildings  \n",
      "172                   Landmarks & Historical Buildings  \n",
      "174  Bookstores, Boat Charters, Landmarks & Histori...  \n",
      "186      Dance Clubs, Landmarks & Historical Buildings  \n",
      "206                   Landmarks & Historical Buildings  \n",
      "233                   Landmarks & Historical Buildings  \n"
     ]
    }
   ],
   "source": [
    "#filltering categories to see what else we have \n",
    "\n",
    "other_categories_yelp = df_yelp[~df_yelp['categories'].str\n",
    "                                .contains('Parks|Bar|Pub', case=False, regex=True)]\n",
    "\n",
    "# renaming the columns for clarity\n",
    "other_categories_table_yelp = other_categories_yelp[['station_name',\n",
    "                                                      'name', 'categories']].copy()\n",
    "other_categories_table_yelp.columns = ['Nearest Station', \n",
    "                                       'Venue Name', 'Category']\n",
    "\n",
    "\n",
    "print(other_categories_table_yelp)"
   ]
  },
  {
   "attachments": {},
   "cell_type": "markdown",
   "metadata": {},
   "source": [
    "### Renaming the categories becuse some had very long names."
   ]
  },
  {
   "cell_type": "code",
   "execution_count": 35,
   "metadata": {},
   "outputs": [
    {
     "data": {
      "text/html": [
       "<div>\n",
       "<style scoped>\n",
       "    .dataframe tbody tr th:only-of-type {\n",
       "        vertical-align: middle;\n",
       "    }\n",
       "\n",
       "    .dataframe tbody tr th {\n",
       "        vertical-align: top;\n",
       "    }\n",
       "\n",
       "    .dataframe thead th {\n",
       "        text-align: right;\n",
       "    }\n",
       "</style>\n",
       "<table border=\"1\" class=\"dataframe\">\n",
       "  <thead>\n",
       "    <tr style=\"text-align: right;\">\n",
       "      <th></th>\n",
       "      <th>name</th>\n",
       "      <th>station_name</th>\n",
       "      <th>categories</th>\n",
       "      <th>simplified_categories</th>\n",
       "    </tr>\n",
       "  </thead>\n",
       "  <tbody>\n",
       "    <tr>\n",
       "      <th>0</th>\n",
       "      <td>The Irish Pub</td>\n",
       "      <td>Place Islande</td>\n",
       "      <td>Pubs</td>\n",
       "      <td>Bar/Pub</td>\n",
       "    </tr>\n",
       "    <tr>\n",
       "      <th>1</th>\n",
       "      <td>Mezzanine of London</td>\n",
       "      <td>Place Islande</td>\n",
       "      <td>Bars, Dance Clubs, Tapas Bars</td>\n",
       "      <td>Bar/Pub</td>\n",
       "    </tr>\n",
       "    <tr>\n",
       "      <th>2</th>\n",
       "      <td>Spyl</td>\n",
       "      <td>Place Islande</td>\n",
       "      <td>Dance Clubs, Bars</td>\n",
       "      <td>Bar/Pub</td>\n",
       "    </tr>\n",
       "    <tr>\n",
       "      <th>3</th>\n",
       "      <td>Le Barômètre</td>\n",
       "      <td>Place Islande</td>\n",
       "      <td>Bars, Brasseries, Bistros</td>\n",
       "      <td>Bar/Pub</td>\n",
       "    </tr>\n",
       "    <tr>\n",
       "      <th>4</th>\n",
       "      <td>imada</td>\n",
       "      <td>Place Islande</td>\n",
       "      <td>Landmarks &amp; Historical Buildings</td>\n",
       "      <td>Landmark</td>\n",
       "    </tr>\n",
       "    <tr>\n",
       "      <th>...</th>\n",
       "      <td>...</td>\n",
       "      <td>...</td>\n",
       "      <td>...</td>\n",
       "      <td>...</td>\n",
       "    </tr>\n",
       "    <tr>\n",
       "      <th>267</th>\n",
       "      <td>Fiesta Makassi Bar</td>\n",
       "      <td>Gare Nord</td>\n",
       "      <td>Sports Bars, Cocktail Bars</td>\n",
       "      <td>Bar/Pub</td>\n",
       "    </tr>\n",
       "    <tr>\n",
       "      <th>268</th>\n",
       "      <td>La Solidarité</td>\n",
       "      <td>Gare Nord</td>\n",
       "      <td>French, Bars</td>\n",
       "      <td>Bar/Pub</td>\n",
       "    </tr>\n",
       "    <tr>\n",
       "      <th>269</th>\n",
       "      <td>Le Garde Fou</td>\n",
       "      <td>Gare Nord</td>\n",
       "      <td>Pubs</td>\n",
       "      <td>Bar/Pub</td>\n",
       "    </tr>\n",
       "    <tr>\n",
       "      <th>270</th>\n",
       "      <td>Brasserie WOW</td>\n",
       "      <td>Gare Nord</td>\n",
       "      <td>Bars, Brasseries</td>\n",
       "      <td>Bar/Pub</td>\n",
       "    </tr>\n",
       "    <tr>\n",
       "      <th>271</th>\n",
       "      <td>Le Jardin des Deux Rives</td>\n",
       "      <td>Auberge de jeunesse</td>\n",
       "      <td>Parks</td>\n",
       "      <td>Park</td>\n",
       "    </tr>\n",
       "  </tbody>\n",
       "</table>\n",
       "<p>272 rows × 4 columns</p>\n",
       "</div>"
      ],
      "text/plain": [
       "                         name         station_name  \\\n",
       "0               The Irish Pub        Place Islande   \n",
       "1         Mezzanine of London        Place Islande   \n",
       "2                        Spyl        Place Islande   \n",
       "3                Le Barômètre        Place Islande   \n",
       "4                       imada        Place Islande   \n",
       "..                        ...                  ...   \n",
       "267        Fiesta Makassi Bar            Gare Nord   \n",
       "268             La Solidarité            Gare Nord   \n",
       "269              Le Garde Fou            Gare Nord   \n",
       "270             Brasserie WOW            Gare Nord   \n",
       "271  Le Jardin des Deux Rives  Auberge de jeunesse   \n",
       "\n",
       "                           categories simplified_categories  \n",
       "0                                Pubs               Bar/Pub  \n",
       "1       Bars, Dance Clubs, Tapas Bars               Bar/Pub  \n",
       "2                   Dance Clubs, Bars               Bar/Pub  \n",
       "3           Bars, Brasseries, Bistros               Bar/Pub  \n",
       "4    Landmarks & Historical Buildings              Landmark  \n",
       "..                                ...                   ...  \n",
       "267        Sports Bars, Cocktail Bars               Bar/Pub  \n",
       "268                      French, Bars               Bar/Pub  \n",
       "269                              Pubs               Bar/Pub  \n",
       "270                  Bars, Brasseries               Bar/Pub  \n",
       "271                             Parks                  Park  \n",
       "\n",
       "[272 rows x 4 columns]"
      ]
     },
     "execution_count": 35,
     "metadata": {},
     "output_type": "execute_result"
    }
   ],
   "source": [
    "#renaming the categories becuse some had very long names\n",
    "\n",
    "def simplify_category_name(category):\n",
    "    category_lower = category.lower()\n",
    "    if 'bar' in category_lower or 'pub' in category_lower:\n",
    "        return 'Bar/Pub'\n",
    "    elif 'cafe' in category_lower:\n",
    "        return 'Cafe'\n",
    "    elif 'park' in category_lower:\n",
    "        return 'Park'\n",
    "    elif 'landmark' in category_lower:\n",
    "        return 'Landmark'\n",
    "    else:\n",
    "        return category\n",
    "\n",
    "\n",
    "df_yelp['simplified_categories'] = df_yelp['categories'].apply(simplify_category_name)\n",
    "df_yelp"
   ]
  },
  {
   "attachments": {},
   "cell_type": "markdown",
   "metadata": {},
   "source": [
    "### Merging the DataFrames on 'Station Name' from filtered_df and 'station_name' from df_yelp"
   ]
  },
  {
   "cell_type": "code",
   "execution_count": 36,
   "metadata": {},
   "outputs": [
    {
     "data": {
      "text/html": [
       "<div>\n",
       "<style scoped>\n",
       "    .dataframe tbody tr th:only-of-type {\n",
       "        vertical-align: middle;\n",
       "    }\n",
       "\n",
       "    .dataframe tbody tr th {\n",
       "        vertical-align: top;\n",
       "    }\n",
       "\n",
       "    .dataframe thead th {\n",
       "        text-align: right;\n",
       "    }\n",
       "</style>\n",
       "<table border=\"1\" class=\"dataframe\">\n",
       "  <thead>\n",
       "    <tr style=\"text-align: right;\">\n",
       "      <th></th>\n",
       "      <th>Station Name</th>\n",
       "      <th>Latitude</th>\n",
       "      <th>Longitude</th>\n",
       "      <th>Available Bikes</th>\n",
       "      <th>name</th>\n",
       "      <th>categories</th>\n",
       "      <th>simplified_categories</th>\n",
       "    </tr>\n",
       "  </thead>\n",
       "  <tbody>\n",
       "    <tr>\n",
       "      <th>0</th>\n",
       "      <td>Place Islande</td>\n",
       "      <td>48.580314</td>\n",
       "      <td>7.776203</td>\n",
       "      <td>3</td>\n",
       "      <td>The Irish Pub</td>\n",
       "      <td>Pubs</td>\n",
       "      <td>Bar/Pub</td>\n",
       "    </tr>\n",
       "    <tr>\n",
       "      <th>1</th>\n",
       "      <td>Place Islande</td>\n",
       "      <td>48.580314</td>\n",
       "      <td>7.776203</td>\n",
       "      <td>3</td>\n",
       "      <td>Mezzanine of London</td>\n",
       "      <td>Bars, Dance Clubs, Tapas Bars</td>\n",
       "      <td>Bar/Pub</td>\n",
       "    </tr>\n",
       "    <tr>\n",
       "      <th>2</th>\n",
       "      <td>Place Islande</td>\n",
       "      <td>48.580314</td>\n",
       "      <td>7.776203</td>\n",
       "      <td>3</td>\n",
       "      <td>Spyl</td>\n",
       "      <td>Dance Clubs, Bars</td>\n",
       "      <td>Bar/Pub</td>\n",
       "    </tr>\n",
       "    <tr>\n",
       "      <th>3</th>\n",
       "      <td>Place Islande</td>\n",
       "      <td>48.580314</td>\n",
       "      <td>7.776203</td>\n",
       "      <td>3</td>\n",
       "      <td>Le Barômètre</td>\n",
       "      <td>Bars, Brasseries, Bistros</td>\n",
       "      <td>Bar/Pub</td>\n",
       "    </tr>\n",
       "    <tr>\n",
       "      <th>4</th>\n",
       "      <td>Place Islande</td>\n",
       "      <td>48.580314</td>\n",
       "      <td>7.776203</td>\n",
       "      <td>3</td>\n",
       "      <td>imada</td>\n",
       "      <td>Landmarks &amp; Historical Buildings</td>\n",
       "      <td>Landmark</td>\n",
       "    </tr>\n",
       "  </tbody>\n",
       "</table>\n",
       "</div>"
      ],
      "text/plain": [
       "    Station Name   Latitude  Longitude  Available Bikes                 name  \\\n",
       "0  Place Islande  48.580314   7.776203                3        The Irish Pub   \n",
       "1  Place Islande  48.580314   7.776203                3  Mezzanine of London   \n",
       "2  Place Islande  48.580314   7.776203                3                 Spyl   \n",
       "3  Place Islande  48.580314   7.776203                3         Le Barômètre   \n",
       "4  Place Islande  48.580314   7.776203                3                imada   \n",
       "\n",
       "                         categories simplified_categories  \n",
       "0                              Pubs               Bar/Pub  \n",
       "1     Bars, Dance Clubs, Tapas Bars               Bar/Pub  \n",
       "2                 Dance Clubs, Bars               Bar/Pub  \n",
       "3         Bars, Brasseries, Bistros               Bar/Pub  \n",
       "4  Landmarks & Historical Buildings              Landmark  "
      ]
     },
     "execution_count": 36,
     "metadata": {},
     "output_type": "execute_result"
    }
   ],
   "source": [
    "\n",
    "# Merging the DataFrames on 'Station Name' from filtered_df and 'station_name' from df_yelp\n",
    "merged_df = pd.merge(filtered_df, df_yelp, left_on='Station Name',\n",
    "                      right_on='station_name', how='left')\n",
    "\n",
    "# Dropping the 'station_name' column from df_yelp, since it's redundant\n",
    "merged_df.drop('station_name', axis=1, inplace=True)\n",
    "\n",
    "merged_df.head(5)"
   ]
  },
  {
   "attachments": {},
   "cell_type": "markdown",
   "metadata": {},
   "source": [
    "### saved my result as CSV"
   ]
  },
  {
   "cell_type": "code",
   "execution_count": 37,
   "metadata": {},
   "outputs": [],
   "source": [
    "df=merged_df.to_csv('../data/merged.csv')"
   ]
  },
  {
   "attachments": {},
   "cell_type": "markdown",
   "metadata": {},
   "source": [
    "### chechikng for duplication"
   ]
  },
  {
   "cell_type": "code",
   "execution_count": 38,
   "metadata": {},
   "outputs": [
    {
     "name": "stdout",
     "output_type": "stream",
     "text": [
      "Are there any duplicates (considering all columns)? False\n"
     ]
    }
   ],
   "source": [
    "duplicates_all = merged_df.duplicated()\n",
    "print(f\"Are there any duplicates (considering all columns)? \n",
    "      {duplicates_all.any()}\")"
   ]
  },
  {
   "attachments": {},
   "cell_type": "markdown",
   "metadata": {},
   "source": [
    "### looking for nulls"
   ]
  },
  {
   "cell_type": "code",
   "execution_count": 39,
   "metadata": {},
   "outputs": [
    {
     "data": {
      "text/plain": [
       "Station Name             False\n",
       "Latitude                 False\n",
       "Longitude                False\n",
       "Available Bikes          False\n",
       "name                      True\n",
       "categories                True\n",
       "simplified_categories     True\n",
       "dtype: bool"
      ]
     },
     "execution_count": 39,
     "metadata": {},
     "output_type": "execute_result"
    }
   ],
   "source": [
    "merged_df.isnull().any()"
   ]
  },
  {
   "cell_type": "code",
   "execution_count": 54,
   "metadata": {},
   "outputs": [
    {
     "data": {
      "text/plain": [
       "Station Name              0\n",
       "Latitude                  0\n",
       "Longitude                 0\n",
       "Available Bikes           0\n",
       "name                     11\n",
       "categories               11\n",
       "simplified_categories    11\n",
       "dtype: int64"
      ]
     },
     "execution_count": 54,
     "metadata": {},
     "output_type": "execute_result"
    }
   ],
   "source": [
    "null_counts = merged_df.isnull().sum()\n",
    "null_counts\n"
   ]
  },
  {
   "cell_type": "code",
   "execution_count": 55,
   "metadata": {},
   "outputs": [
    {
     "data": {
      "text/html": [
       "<div>\n",
       "<style scoped>\n",
       "    .dataframe tbody tr th:only-of-type {\n",
       "        vertical-align: middle;\n",
       "    }\n",
       "\n",
       "    .dataframe tbody tr th {\n",
       "        vertical-align: top;\n",
       "    }\n",
       "\n",
       "    .dataframe thead th {\n",
       "        text-align: right;\n",
       "    }\n",
       "</style>\n",
       "<table border=\"1\" class=\"dataframe\">\n",
       "  <thead>\n",
       "    <tr style=\"text-align: right;\">\n",
       "      <th></th>\n",
       "      <th>Station Name</th>\n",
       "      <th>Latitude</th>\n",
       "      <th>Longitude</th>\n",
       "      <th>Available Bikes</th>\n",
       "      <th>name</th>\n",
       "      <th>categories</th>\n",
       "      <th>simplified_categories</th>\n",
       "    </tr>\n",
       "  </thead>\n",
       "  <tbody>\n",
       "    <tr>\n",
       "      <th>58</th>\n",
       "      <td>Hohwart</td>\n",
       "      <td>48.549190</td>\n",
       "      <td>7.740754</td>\n",
       "      <td>0</td>\n",
       "      <td>NaN</td>\n",
       "      <td>NaN</td>\n",
       "      <td>NaN</td>\n",
       "    </tr>\n",
       "    <tr>\n",
       "      <th>63</th>\n",
       "      <td>Hoenheim Gare</td>\n",
       "      <td>48.628353</td>\n",
       "      <td>7.760103</td>\n",
       "      <td>0</td>\n",
       "      <td>NaN</td>\n",
       "      <td>NaN</td>\n",
       "      <td>NaN</td>\n",
       "    </tr>\n",
       "    <tr>\n",
       "      <th>111</th>\n",
       "      <td>Campus d'Illkirch</td>\n",
       "      <td>48.529616</td>\n",
       "      <td>7.734226</td>\n",
       "      <td>1</td>\n",
       "      <td>NaN</td>\n",
       "      <td>NaN</td>\n",
       "      <td>NaN</td>\n",
       "    </tr>\n",
       "    <tr>\n",
       "      <th>114</th>\n",
       "      <td>Espace Européen de l'Entreprise</td>\n",
       "      <td>48.612597</td>\n",
       "      <td>7.711630</td>\n",
       "      <td>0</td>\n",
       "      <td>NaN</td>\n",
       "      <td>NaN</td>\n",
       "      <td>NaN</td>\n",
       "    </tr>\n",
       "    <tr>\n",
       "      <th>179</th>\n",
       "      <td>Ostwald Hôtel de Ville</td>\n",
       "      <td>48.551032</td>\n",
       "      <td>7.711200</td>\n",
       "      <td>0</td>\n",
       "      <td>NaN</td>\n",
       "      <td>NaN</td>\n",
       "      <td>NaN</td>\n",
       "    </tr>\n",
       "    <tr>\n",
       "      <th>217</th>\n",
       "      <td>Boutique Mobile : Vendenheim</td>\n",
       "      <td>48.667930</td>\n",
       "      <td>7.710083</td>\n",
       "      <td>0</td>\n",
       "      <td>NaN</td>\n",
       "      <td>NaN</td>\n",
       "      <td>NaN</td>\n",
       "    </tr>\n",
       "    <tr>\n",
       "      <th>243</th>\n",
       "      <td>Boutique Mobile : Illkirch</td>\n",
       "      <td>48.527624</td>\n",
       "      <td>7.709340</td>\n",
       "      <td>0</td>\n",
       "      <td>NaN</td>\n",
       "      <td>NaN</td>\n",
       "      <td>NaN</td>\n",
       "    </tr>\n",
       "    <tr>\n",
       "      <th>244</th>\n",
       "      <td>Boutique Mobile : Eckbolsheim</td>\n",
       "      <td>48.578579</td>\n",
       "      <td>7.688021</td>\n",
       "      <td>0</td>\n",
       "      <td>NaN</td>\n",
       "      <td>NaN</td>\n",
       "      <td>NaN</td>\n",
       "    </tr>\n",
       "    <tr>\n",
       "      <th>245</th>\n",
       "      <td>Boutique Mobile : Eschau</td>\n",
       "      <td>48.489717</td>\n",
       "      <td>7.714668</td>\n",
       "      <td>0</td>\n",
       "      <td>NaN</td>\n",
       "      <td>NaN</td>\n",
       "      <td>NaN</td>\n",
       "    </tr>\n",
       "    <tr>\n",
       "      <th>246</th>\n",
       "      <td>Boutique Mobile : Geispolsheim</td>\n",
       "      <td>48.515063</td>\n",
       "      <td>7.658834</td>\n",
       "      <td>0</td>\n",
       "      <td>NaN</td>\n",
       "      <td>NaN</td>\n",
       "      <td>NaN</td>\n",
       "    </tr>\n",
       "    <tr>\n",
       "      <th>249</th>\n",
       "      <td>Boutique Mobile : Mundolsheim</td>\n",
       "      <td>48.641752</td>\n",
       "      <td>7.715398</td>\n",
       "      <td>0</td>\n",
       "      <td>NaN</td>\n",
       "      <td>NaN</td>\n",
       "      <td>NaN</td>\n",
       "    </tr>\n",
       "  </tbody>\n",
       "</table>\n",
       "</div>"
      ],
      "text/plain": [
       "                        Station Name   Latitude  Longitude  Available Bikes  \\\n",
       "58                           Hohwart  48.549190   7.740754                0   \n",
       "63                     Hoenheim Gare  48.628353   7.760103                0   \n",
       "111                Campus d'Illkirch  48.529616   7.734226                1   \n",
       "114  Espace Européen de l'Entreprise  48.612597   7.711630                0   \n",
       "179           Ostwald Hôtel de Ville  48.551032   7.711200                0   \n",
       "217     Boutique Mobile : Vendenheim  48.667930   7.710083                0   \n",
       "243       Boutique Mobile : Illkirch  48.527624   7.709340                0   \n",
       "244    Boutique Mobile : Eckbolsheim  48.578579   7.688021                0   \n",
       "245         Boutique Mobile : Eschau  48.489717   7.714668                0   \n",
       "246   Boutique Mobile : Geispolsheim  48.515063   7.658834                0   \n",
       "249    Boutique Mobile : Mundolsheim  48.641752   7.715398                0   \n",
       "\n",
       "    name categories simplified_categories  \n",
       "58   NaN        NaN                   NaN  \n",
       "63   NaN        NaN                   NaN  \n",
       "111  NaN        NaN                   NaN  \n",
       "114  NaN        NaN                   NaN  \n",
       "179  NaN        NaN                   NaN  \n",
       "217  NaN        NaN                   NaN  \n",
       "243  NaN        NaN                   NaN  \n",
       "244  NaN        NaN                   NaN  \n",
       "245  NaN        NaN                   NaN  \n",
       "246  NaN        NaN                   NaN  \n",
       "249  NaN        NaN                   NaN  "
      ]
     },
     "execution_count": 55,
     "metadata": {},
     "output_type": "execute_result"
    }
   ],
   "source": [
    "# Filtering the DataFrame to only include rows with at least one null value\n",
    "rows_with_nulls = merged_df[merged_df.isnull().any(axis=1)]\n",
    "\n",
    "# Displaying the first 11 rows of the filtered DataFrame\n",
    "rows_with_nulls.head(11)\n"
   ]
  },
  {
   "attachments": {},
   "cell_type": "markdown",
   "metadata": {},
   "source": [
    "### droping null as they do'nt play a significant effect "
   ]
  },
  {
   "cell_type": "code",
   "execution_count": 59,
   "metadata": {},
   "outputs": [],
   "source": [
    "# Droping rows with any null values directly in `merged_df`\n",
    "merged_df.dropna(inplace=True)\n"
   ]
  },
  {
   "cell_type": "code",
   "execution_count": 60,
   "metadata": {},
   "outputs": [
    {
     "data": {
      "text/plain": [
       "Station Name             False\n",
       "Latitude                 False\n",
       "Longitude                False\n",
       "Available Bikes          False\n",
       "name                     False\n",
       "categories               False\n",
       "simplified_categories    False\n",
       "dtype: bool"
      ]
     },
     "execution_count": 60,
     "metadata": {},
     "output_type": "execute_result"
    }
   ],
   "source": [
    "merged_df.isnull().any()"
   ]
  },
  {
   "attachments": {},
   "cell_type": "markdown",
   "metadata": {},
   "source": [
    "Provide a visualization that you used as part of your EDA process. Explain the initial pattern or relationship you discoved through this visualization. \n",
    "### checking for distribution of Available Bikes at Stations"
   ]
  },
  {
   "cell_type": "code",
   "execution_count": 61,
   "metadata": {},
   "outputs": [
    {
     "data": {
      "image/png": "[encoded data removed]",
      "text/plain": [
       "<Figure size 1000x600 with 1 Axes>"
      ]
     },
     "metadata": {},
     "output_type": "display_data"
    }
   ],
   "source": [
    "#Distribution of Available Bikes at Stations\n",
    "import matplotlib.pyplot as plt\n",
    "plt.figure(figsize=(10, 6))\n",
    "plt.hist(merged_df['Available Bikes'], bins=20, \n",
    "         color='skyblue', edgecolor='black')\n",
    "plt.title('Distribution of Available Bikes at Stations')\n",
    "plt.xlabel('Available Bikes')\n",
    "plt.ylabel('Station Name')\n",
    "plt.show()"
   ]
  },
  {
   "attachments": {},
   "cell_type": "markdown",
   "metadata": {},
   "source": [
    "### checking for the most common types of venues near bike stations."
   ]
  },
  {
   "cell_type": "code",
   "execution_count": 62,
   "metadata": {},
   "outputs": [
    {
     "data": {
      "image/png": "[encoded data removed]",
      "text/plain": [
       "<Figure size 1200x800 with 1 Axes>"
      ]
     },
     "metadata": {},
     "output_type": "display_data"
    }
   ],
   "source": [
    "# the most common types of venues near bike stations.\n",
    "\n",
    "top_categories = merged_df['simplified_categories'].value_counts().head(10)  # Adjust the number to display top N categories\n",
    "plt.figure(figsize=(12, 8))\n",
    "top_categories.plot(kind='bar', color='blue')\n",
    "plt.title('Top Categories of Venues Near Bike Stations')\n",
    "plt.xlabel('Category')\n",
    "plt.ylabel('Frequency')\n",
    "plt.xticks(rotation=45, ha='right')\n",
    "plt.show()"
   ]
  },
  {
   "attachments": {},
   "cell_type": "markdown",
   "metadata": {},
   "source": [
    "### checking to see what categorie are arounf each station"
   ]
  },
  {
   "cell_type": "code",
   "execution_count": 42,
   "metadata": {},
   "outputs": [
    {
     "data": {
      "image/png": "[encoded data removed]",
      "text/plain": [
       "<Figure size 1400x800 with 1 Axes>"
      ]
     },
     "metadata": {},
     "output_type": "display_data"
    }
   ],
   "source": [
    "#what categorie are arounf each station\n",
    "category_colors = {\n",
    "    'Cafe': 'lightblue',\n",
    "    'Bar/Pub': 'darkgreen',\n",
    "    'Landmark': 'lightgreen',\n",
    "    'Park': 'darkblue'  \n",
    "}\n",
    "\n",
    "category_counts_per_station = merged_df.groupby(['Station Name',\n",
    "                                                  'simplified_categories']).size().unstack(fill_value=0)\n",
    "\n",
    "category_counts_per_station = category_counts_per_station.reindex(columns=['Cafe', \n",
    "                                                                           'Bar/Pub', 'Landmark', 'Park'])\n",
    "\n",
    "\n",
    "category_counts_per_station.plot(kind='bar', stacked=True, figsize=(14, 8), \n",
    "                                 color=[category_colors.get(x) \n",
    "                                        for x in category_counts_per_station.columns])\n",
    "plt.title('Count of Specific Categories per Station')\n",
    "plt.xlabel('Station Name')\n",
    "plt.ylabel('Count of Venues')\n",
    "plt.xticks(rotation=45, ha='right')\n",
    "plt.legend(title='Categories')\n",
    "plt.tight_layout()\n",
    "plt.show()"
   ]
  },
  {
   "cell_type": "code",
   "execution_count": null,
   "metadata": {},
   "outputs": [],
   "source": []
  },
  {
   "attachments": {},
   "cell_type": "markdown",
   "metadata": {},
   "source": [
    "# Database"
   ]
  },
  {
   "attachments": {},
   "cell_type": "markdown",
   "metadata": {},
   "source": [
    "Put all your results in an SQLite3 database (remember, SQLite stores its databases as files in your local machine - make sure to create your database in your project's data/ directory!)\n",
    "\n",
    "### Puting all the results in an SQLite3 database\n",
    "#### 1- creating a table for each \n",
    "#### 2- inserting data for each"
   ]
  },
  {
   "cell_type": "code",
   "execution_count": 43,
   "metadata": {},
   "outputs": [],
   "source": [
    "import sqlite3\n",
    "from sqlite3 import Error"
   ]
  },
  {
   "cell_type": "code",
   "execution_count": 44,
   "metadata": {},
   "outputs": [],
   "source": [
    "df_foursquare=pd.read_csv('/Users/asalzooashkiany/Documents/Statistical-Modelling-Project/notebooks/foursquare_data.csv')"
   ]
  },
  {
   "cell_type": "code",
   "execution_count": 45,
   "metadata": {},
   "outputs": [
    {
     "name": "stdout",
     "output_type": "stream",
     "text": [
      "Connection to the database established at /Users/asalzooashkiany/Documents/Statistical-Modelling-Project/data/project_data.db\n"
     ]
    }
   ],
   "source": [
    "import sqlite3\n",
    "from sqlite3 import Error\n",
    "\n",
    "#the path to the database\n",
    "database_path = '/Users/asalzooashkiany/Documents/Statistical-Modelling-Project/data/project_data.db'\n",
    "\n",
    "# Creating a database connection\n",
    "def create_connection(db_file):\n",
    "    \"\"\" create a database connection to a SQLite database \"\"\"\n",
    "    conn = None\n",
    "    try:\n",
    "        conn = sqlite3.connect(db_file)\n",
    "        print(f\"Connection to the database established at {db_file}\")\n",
    "    except Error as e:\n",
    "        print(e)\n",
    "    return conn\n",
    "\n",
    "# Creatig a connection object using the specified path\n",
    "conn = create_connection(database_path)\n"
   ]
  },
  {
   "cell_type": "code",
   "execution_count": 46,
   "metadata": {},
   "outputs": [
    {
     "name": "stdout",
     "output_type": "stream",
     "text": [
      "Table 'Stations' created successfully\n"
     ]
    }
   ],
   "source": [
    "def create_table_stations(conn):\n",
    "    try:\n",
    "        cur = conn.cursor()\n",
    "        cur.execute('''\n",
    "            CREATE TABLE IF NOT EXISTS Stations (\n",
    "                \"Station Name\" TEXT PRIMARY KEY,\n",
    "                \"Latitude\" REAL,\n",
    "                \"Longitude\" REAL,\n",
    "                \"Available Bikes\" INTEGER\n",
    "            );\n",
    "        ''')\n",
    "        print(\"Table 'Stations' created successfully\")\n",
    "    except Error as e:\n",
    "        print(f\"The error '{e}' occurred\")\n",
    "\n",
    "if conn is not None:\n",
    "    create_table_stations(conn)\n",
    "else:\n",
    "    print(\"Error! cannot create the database connection.\")\n"
   ]
  },
  {
   "cell_type": "code",
   "execution_count": 47,
   "metadata": {},
   "outputs": [
    {
     "name": "stdout",
     "output_type": "stream",
     "text": [
      "The error 'UNIQUE constraint failed: Stations.Station Name' occurred\n"
     ]
    }
   ],
   "source": [
    "def insert_station_data(conn, data):\n",
    "    \"\"\"\n",
    "    Insert station data into the Stations table.\n",
    "    :param conn: Connection object\n",
    "    :param data: DataFrame containing the data to insert\n",
    "    \"\"\"\n",
    "    try:\n",
    "        cur = conn.cursor()\n",
    "        for index, row in data.iterrows():\n",
    "            sql = ''' INSERT INTO Stations(\"Station Name\",\n",
    "              \"Latitude\", \"Longitude\", \"Available Bikes\")\n",
    "                      VALUES(?,?,?,?) '''\n",
    "            cur.execute(sql, (row['Station Name'],\n",
    "                               row['Latitude'], row['Longitude'], row['Available Bikes']))\n",
    "        conn.commit()\n",
    "        print(\"Station data inserted successfully\")\n",
    "    except Error as e:\n",
    "        print(f\"The error '{e}' occurred\")\n",
    "\n",
    "insert_station_data(conn, filtered_df)\n"
   ]
  },
  {
   "cell_type": "code",
   "execution_count": 48,
   "metadata": {},
   "outputs": [
    {
     "name": "stdout",
     "output_type": "stream",
     "text": [
      "Table 'Foursquare' created successfully\n"
     ]
    }
   ],
   "source": [
    "def create_table_foursquare(conn):\n",
    "    try:\n",
    "        cur = conn.cursor()\n",
    "        cur.execute('''\n",
    "            CREATE TABLE IF NOT EXISTS Foursquare (\n",
    "                \"Name\" TEXT,\n",
    "                \"Station_Name\" TEXT,\n",
    "                \"categories\" TEXT,\n",
    "                FOREIGN KEY (\"Station_Name\") REFERENCES Stations(\"Station Name\")\n",
    "            );\n",
    "        ''')\n",
    "        print(\"Table 'Foursquare' created successfully\")\n",
    "    except Error as e:\n",
    "        print(f\"The error '{e}' occurred\")\n",
    "\n",
    "if conn is not None:\n",
    "    create_table_foursquare(conn)"
   ]
  },
  {
   "cell_type": "code",
   "execution_count": 49,
   "metadata": {},
   "outputs": [
    {
     "name": "stdout",
     "output_type": "stream",
     "text": [
      "Foursquare data inserted successfully\n"
     ]
    }
   ],
   "source": [
    "def insert_foursquare_data(conn, data):\n",
    "    \"\"\"\n",
    "    Insert Foursquare venue data.\n",
    "    \"\"\"\n",
    "    try:\n",
    "        cur = conn.cursor()\n",
    "        for index, row in data.iterrows():\n",
    "            sql = ''' INSERT INTO Foursquare(\"Name\",\n",
    "              \"Station_Name\", \"categories\")\n",
    "                      VALUES(?,?,?) '''\n",
    "            cur.execute(sql, (row['name'],\n",
    "                               row['station_name'], row['categories']))\n",
    "        conn.commit()\n",
    "        print(\"Foursquare data inserted successfully\")\n",
    "    except Error as e:\n",
    "        print(f\"The error '{e}' occurred\")\n",
    "\n",
    "insert_foursquare_data(conn, df_foursquare)"
   ]
  },
  {
   "cell_type": "code",
   "execution_count": 50,
   "metadata": {},
   "outputs": [
    {
     "name": "stdout",
     "output_type": "stream",
     "text": [
      "Table 'Yelp' recreated successfully without a primary key\n"
     ]
    }
   ],
   "source": [
    "def create_table_yelp(conn):\n",
    "    \"\"\"\n",
    "    Create the Yelp table without a primary key, including a foreign key.\n",
    "    \"\"\"\n",
    "    try:\n",
    "        cur = conn.cursor()\n",
    "        cur.execute('''\n",
    "            CREATE TABLE IF NOT EXISTS Yelp (\n",
    "                \"Name\" TEXT,\n",
    "                \"Station_Name\" TEXT,\n",
    "                \"Categories\" TEXT,\n",
    "                FOREIGN KEY (\"Station_Name\") REFERENCES Stations(\"Station Name\")\n",
    "            );\n",
    "        ''')\n",
    "        conn.commit()\n",
    "        print(\"Table 'Yelp' recreated successfully without a primary key\")\n",
    "    except Error as e:\n",
    "        print(f\"The error '{e}' occurred\")\n",
    "\n",
    "# Recreate the Yelp table\n",
    "create_table_yelp(conn)"
   ]
  },
  {
   "cell_type": "code",
   "execution_count": 51,
   "metadata": {},
   "outputs": [
    {
     "name": "stdout",
     "output_type": "stream",
     "text": [
      "Yelp data inserted successfully\n"
     ]
    }
   ],
   "source": [
    "def insert_yelp_data(conn, data):\n",
    "    \"\"\"\n",
    "    Insert Yelp venue data into the Yelp table.\n",
    "    :param conn: Database connection\n",
    "    :param data: DataFrame containing Yelp data\n",
    "    \"\"\"\n",
    "    try:\n",
    "        cur = conn.cursor()\n",
    "        for index, row in data.iterrows():\n",
    "            # Prepare the SQL insert statement\n",
    "            sql = '''INSERT INTO Yelp (\"Name\",\n",
    "              \"Station_Name\", \"Categories\") VALUES (?, ?, ?);'''\n",
    "            # Execute the SQL statement with values from the DataFrame row\n",
    "            cur.execute(sql, (row['name'],\n",
    "                               row['station_name'], row['categories']))\n",
    "      \n",
    "        conn.commit()\n",
    "        print(\"Yelp data inserted successfully\")\n",
    "    except Error as e:\n",
    "        print(f\"The error '{e}' occurred\")\n",
    "\n",
    "\n",
    "insert_yelp_data(conn, df_yelp)"
   ]
  },
  {
   "attachments": {},
   "cell_type": "markdown",
   "metadata": {},
   "source": [
    "### checking to see if the result have been inserted correctly"
   ]
  },
  {
   "cell_type": "code",
   "execution_count": 52,
   "metadata": {},
   "outputs": [
    {
     "name": "stdout",
     "output_type": "stream",
     "text": [
      "                         Name         Station_Name  \\\n",
      "0               The Irish Pub        Place Islande   \n",
      "1         Mezzanine of London        Place Islande   \n",
      "2                        Spyl        Place Islande   \n",
      "3                Le Barômètre        Place Islande   \n",
      "4                       imada        Place Islande   \n",
      "..                        ...                  ...   \n",
      "811        Fiesta Makassi Bar            Gare Nord   \n",
      "812             La Solidarité            Gare Nord   \n",
      "813              Le Garde Fou            Gare Nord   \n",
      "814             Brasserie WOW            Gare Nord   \n",
      "815  Le Jardin des Deux Rives  Auberge de jeunesse   \n",
      "\n",
      "                           Categories  \n",
      "0                                Pubs  \n",
      "1       Bars, Dance Clubs, Tapas Bars  \n",
      "2                   Dance Clubs, Bars  \n",
      "3           Bars, Brasseries, Bistros  \n",
      "4    Landmarks & Historical Buildings  \n",
      "..                                ...  \n",
      "811        Sports Bars, Cocktail Bars  \n",
      "812                      French, Bars  \n",
      "813                              Pubs  \n",
      "814                  Bars, Brasseries  \n",
      "815                             Parks  \n",
      "\n",
      "[816 rows x 3 columns]\n",
      "Total number of Yelp entries fetched: 816\n"
     ]
    }
   ],
   "source": [
    "\n",
    "\n",
    "def fetch_yelp_entries_table(conn):\n",
    "    \"\"\"\n",
    "    Fetch all entries from the Yelp table and display as a table using Pandas.\n",
    "    :param conn: the Connection object\n",
    "    \"\"\"\n",
    "    sql = 'SELECT * FROM Yelp'\n",
    "    df = pd.read_sql_query(sql, conn)\n",
    "    print(df)\n",
    "    print(f\"Total number of Yelp entries fetched: {len(df)}\")\n",
    "\n",
    "fetch_yelp_entries_table(conn)\n",
    "\n"
   ]
  },
  {
   "cell_type": "code",
   "execution_count": 53,
   "metadata": {},
   "outputs": [
    {
     "data": {
      "text/html": [
       "<div>\n",
       "<style scoped>\n",
       "    .dataframe tbody tr th:only-of-type {\n",
       "        vertical-align: middle;\n",
       "    }\n",
       "\n",
       "    .dataframe tbody tr th {\n",
       "        vertical-align: top;\n",
       "    }\n",
       "\n",
       "    .dataframe thead th {\n",
       "        text-align: right;\n",
       "    }\n",
       "</style>\n",
       "<table border=\"1\" class=\"dataframe\">\n",
       "  <thead>\n",
       "    <tr style=\"text-align: right;\">\n",
       "      <th></th>\n",
       "      <th>Station Name</th>\n",
       "      <th>Latitude</th>\n",
       "      <th>Longitude</th>\n",
       "      <th>Available Bikes</th>\n",
       "      <th>Name</th>\n",
       "      <th>Categories</th>\n",
       "    </tr>\n",
       "  </thead>\n",
       "  <tbody>\n",
       "    <tr>\n",
       "      <th>0</th>\n",
       "      <td>Place Islande</td>\n",
       "      <td>48.580314</td>\n",
       "      <td>7.776203</td>\n",
       "      <td>3</td>\n",
       "      <td>The Irish Pub</td>\n",
       "      <td>Pubs</td>\n",
       "    </tr>\n",
       "    <tr>\n",
       "      <th>1</th>\n",
       "      <td>Place Islande</td>\n",
       "      <td>48.580314</td>\n",
       "      <td>7.776203</td>\n",
       "      <td>3</td>\n",
       "      <td>Mezzanine of London</td>\n",
       "      <td>Bars, Dance Clubs, Tapas Bars</td>\n",
       "    </tr>\n",
       "    <tr>\n",
       "      <th>2</th>\n",
       "      <td>Place Islande</td>\n",
       "      <td>48.580314</td>\n",
       "      <td>7.776203</td>\n",
       "      <td>3</td>\n",
       "      <td>Spyl</td>\n",
       "      <td>Dance Clubs, Bars</td>\n",
       "    </tr>\n",
       "    <tr>\n",
       "      <th>3</th>\n",
       "      <td>Place Islande</td>\n",
       "      <td>48.580314</td>\n",
       "      <td>7.776203</td>\n",
       "      <td>3</td>\n",
       "      <td>Le Barômètre</td>\n",
       "      <td>Bars, Brasseries, Bistros</td>\n",
       "    </tr>\n",
       "    <tr>\n",
       "      <th>4</th>\n",
       "      <td>Place Islande</td>\n",
       "      <td>48.580314</td>\n",
       "      <td>7.776203</td>\n",
       "      <td>3</td>\n",
       "      <td>imada</td>\n",
       "      <td>Landmarks &amp; Historical Buildings</td>\n",
       "    </tr>\n",
       "    <tr>\n",
       "      <th>...</th>\n",
       "      <td>...</td>\n",
       "      <td>...</td>\n",
       "      <td>...</td>\n",
       "      <td>...</td>\n",
       "      <td>...</td>\n",
       "      <td>...</td>\n",
       "    </tr>\n",
       "    <tr>\n",
       "      <th>811</th>\n",
       "      <td>Gare Nord</td>\n",
       "      <td>48.585644</td>\n",
       "      <td>7.735371</td>\n",
       "      <td>0</td>\n",
       "      <td>Fiesta Makassi Bar</td>\n",
       "      <td>Sports Bars, Cocktail Bars</td>\n",
       "    </tr>\n",
       "    <tr>\n",
       "      <th>812</th>\n",
       "      <td>Gare Nord</td>\n",
       "      <td>48.585644</td>\n",
       "      <td>7.735371</td>\n",
       "      <td>0</td>\n",
       "      <td>La Solidarité</td>\n",
       "      <td>French, Bars</td>\n",
       "    </tr>\n",
       "    <tr>\n",
       "      <th>813</th>\n",
       "      <td>Gare Nord</td>\n",
       "      <td>48.585644</td>\n",
       "      <td>7.735371</td>\n",
       "      <td>0</td>\n",
       "      <td>Le Garde Fou</td>\n",
       "      <td>Pubs</td>\n",
       "    </tr>\n",
       "    <tr>\n",
       "      <th>814</th>\n",
       "      <td>Gare Nord</td>\n",
       "      <td>48.585644</td>\n",
       "      <td>7.735371</td>\n",
       "      <td>0</td>\n",
       "      <td>Brasserie WOW</td>\n",
       "      <td>Bars, Brasseries</td>\n",
       "    </tr>\n",
       "    <tr>\n",
       "      <th>815</th>\n",
       "      <td>Auberge de jeunesse</td>\n",
       "      <td>48.565806</td>\n",
       "      <td>7.799694</td>\n",
       "      <td>4</td>\n",
       "      <td>Le Jardin des Deux Rives</td>\n",
       "      <td>Parks</td>\n",
       "    </tr>\n",
       "  </tbody>\n",
       "</table>\n",
       "<p>816 rows × 6 columns</p>\n",
       "</div>"
      ],
      "text/plain": [
       "            Station Name   Latitude  Longitude  Available Bikes  \\\n",
       "0          Place Islande  48.580314   7.776203                3   \n",
       "1          Place Islande  48.580314   7.776203                3   \n",
       "2          Place Islande  48.580314   7.776203                3   \n",
       "3          Place Islande  48.580314   7.776203                3   \n",
       "4          Place Islande  48.580314   7.776203                3   \n",
       "..                   ...        ...        ...              ...   \n",
       "811            Gare Nord  48.585644   7.735371                0   \n",
       "812            Gare Nord  48.585644   7.735371                0   \n",
       "813            Gare Nord  48.585644   7.735371                0   \n",
       "814            Gare Nord  48.585644   7.735371                0   \n",
       "815  Auberge de jeunesse  48.565806   7.799694                4   \n",
       "\n",
       "                         Name                        Categories  \n",
       "0               The Irish Pub                              Pubs  \n",
       "1         Mezzanine of London     Bars, Dance Clubs, Tapas Bars  \n",
       "2                        Spyl                 Dance Clubs, Bars  \n",
       "3                Le Barômètre         Bars, Brasseries, Bistros  \n",
       "4                       imada  Landmarks & Historical Buildings  \n",
       "..                        ...                               ...  \n",
       "811        Fiesta Makassi Bar        Sports Bars, Cocktail Bars  \n",
       "812             La Solidarité                      French, Bars  \n",
       "813              Le Garde Fou                              Pubs  \n",
       "814             Brasserie WOW                  Bars, Brasseries  \n",
       "815  Le Jardin des Deux Rives                             Parks  \n",
       "\n",
       "[816 rows x 6 columns]"
      ]
     },
     "execution_count": 53,
     "metadata": {},
     "output_type": "execute_result"
    }
   ],
   "source": [
    "\n",
    "\n",
    "def fetch_data_as_dataframe(conn, query):\n",
    "    \"\"\"\n",
    "    Execute a query and return the results as a pandas DataFrame.\n",
    "    :param conn: the Connection object\n",
    "    :param query: SQL query to execute\n",
    "    \"\"\"\n",
    "    return pd.read_sql_query(query, conn)\n",
    "\n",
    "\n",
    "sql_query = '''\n",
    "SELECT s.\"Station Name\", s.Latitude,\n",
    " s.Longitude, s.\"Available Bikes\", \n",
    "       y.Name, y.Categories\n",
    "FROM Stations s\n",
    "INNER JOIN Yelp y ON s.\"Station Name\" = y.Station_Name\n",
    "'''\n",
    "\n",
    "df = fetch_data_as_dataframe(conn, sql_query)\n",
    "df"
   ]
  },
  {
   "cell_type": "code",
   "execution_count": null,
   "metadata": {},
   "outputs": [],
   "source": []
  }
 ],
 "metadata": {
  "kernelspec": {
   "display_name": "Python 3",
   "language": "python",
   "name": "python3"
  },
  "language_info": {
   "codemirror_mode": {
    "name": "ipython",
    "version": 3
   },
   "file_extension": ".py",
   "mimetype": "text/x-python",
   "name": "python",
   "nbconvert_exporter": "python",
   "pygments_lexer": "ipython3",
   "version": "3.11.7"
  }
 },
 "nbformat": 4,
 "nbformat_minor": 4
}
