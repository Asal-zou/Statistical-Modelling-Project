{
 "cells": [
  {
   "attachments": {},
   "cell_type": "markdown",
   "metadata": {},
   "source": [
    "Build a regression model."
   ]
  },
  {
   "cell_type": "code",
   "execution_count": 1,
   "metadata": {},
   "outputs": [],
   "source": [
    "import numpy as np\n",
    "import pandas as pd\n",
    "import statsmodels.api as sm\n",
    "\n",
    "from sklearn import linear_model, datasets\n"
   ]
  },
  {
   "attachments": {},
   "cell_type": "markdown",
   "metadata": {},
   "source": [
    "### saved my result as CSV and now using it."
   ]
  },
  {
   "cell_type": "code",
   "execution_count": 2,
   "metadata": {},
   "outputs": [],
   "source": [
    "df= pd.read_csv('../data/Bikes.csv')"
   ]
  },
  {
   "cell_type": "code",
   "execution_count": 3,
   "metadata": {},
   "outputs": [],
   "source": [
    "df_yelp= pd.read_csv('../data/Yelp.csv')"
   ]
  },
  {
   "cell_type": "code",
   "execution_count": 4,
   "metadata": {},
   "outputs": [],
   "source": [
    "merged_df= pd.read_csv('../data/merged.csv')"
   ]
  },
  {
   "attachments": {},
   "cell_type": "markdown",
   "metadata": {},
   "source": [
    "### transforming categorical variables into a series of binary (0 or 1) columns."
   ]
  },
  {
   "cell_type": "code",
   "execution_count": 5,
   "metadata": {},
   "outputs": [],
   "source": [
    "#transforming these categorical variables into a series of binary (0 or 1) columns\n",
    "categories_dummies = pd.get_dummies(merged_df['simplified_categories'])\n",
    "\n",
    "# Adding the dummy variables back to the original DataFrame\n",
    "model_df = pd.concat([merged_df[['Available Bikes']], categories_dummies], axis=1)"
   ]
  },
  {
   "attachments": {},
   "cell_type": "markdown",
   "metadata": {},
   "source": [
    " ### Adding a constant term to the model"
   ]
  },
  {
   "cell_type": "code",
   "execution_count": 6,
   "metadata": {},
   "outputs": [],
   "source": [
    "X = model_df.drop(['Available Bikes'], axis=1)\n",
    " # Adding a constant term to the model\n",
    "\n",
    "# Dependent variable (y) - The number of available bikes\n",
    "y = model_df['Available Bikes']\n"
   ]
  },
  {
   "attachments": {},
   "cell_type": "markdown",
   "metadata": {},
   "source": [
    "### checking the data type"
   ]
  },
  {
   "cell_type": "code",
   "execution_count": 7,
   "metadata": {},
   "outputs": [
    {
     "name": "stdout",
     "output_type": "stream",
     "text": [
      "int64\n",
      "Bar/Pub     bool\n",
      "Cafe        bool\n",
      "Landmark    bool\n",
      "Park        bool\n",
      "dtype: object\n"
     ]
    }
   ],
   "source": [
    "print(y.dtypes)\n",
    "print(X.dtypes)"
   ]
  },
  {
   "attachments": {},
   "cell_type": "markdown",
   "metadata": {},
   "source": [
    "### Converting all boolean columns in X to integers (False to 0, True to 1), so it would be the same as my Y-axis"
   ]
  },
  {
   "cell_type": "code",
   "execution_count": 8,
   "metadata": {},
   "outputs": [],
   "source": [
    "X = X.astype(int)  # Convert all boolean columns in X to integers (False to 0, True to 1)\n"
   ]
  },
  {
   "attachments": {},
   "cell_type": "markdown",
   "metadata": {},
   "source": [
    "## made model with \n",
    "#### Dependent Variable (Y): The outcome or the variable that you are trying to predict or explain ( available bikes).\n",
    "#### Independent Variables (Xs): The predictors or factors that you believe have an effect on the dependent variable ( park, pub/bar, cafe, Landmark).\n",
    "\n",
    "### -park and pub/bar had the most significant effect on the model based on their p value.\n",
    "\n",
    "### -the R and R-squared are small, which is not good.\n"
   ]
  },
  {
   "cell_type": "code",
   "execution_count": 9,
   "metadata": {},
   "outputs": [
    {
     "name": "stdout",
     "output_type": "stream",
     "text": [
      "                            OLS Regression Results                            \n",
      "==============================================================================\n",
      "Dep. Variable:        Available Bikes   R-squared:                       0.036\n",
      "Model:                            OLS   Adj. R-squared:                  0.022\n",
      "Method:                 Least Squares   F-statistic:                     2.585\n",
      "Date:                Mon, 18 Mar 2024   Prob (F-statistic):             0.0374\n",
      "Time:                        12:08:55   Log-Likelihood:                -357.52\n",
      "No. Observations:                 283   AIC:                             725.0\n",
      "Df Residuals:                     278   BIC:                             743.3\n",
      "Df Model:                           4                                         \n",
      "Covariance Type:            nonrobust                                         \n",
      "==============================================================================\n",
      "                 coef    std err          t      P>|t|      [0.025      0.975]\n",
      "------------------------------------------------------------------------------\n",
      "const          0.0909      0.260      0.349      0.727      -0.422       0.603\n",
      "Bar/Pub        0.5279      0.266      1.983      0.048       0.004       1.052\n",
      "Cafe           0.4091      0.664      0.616      0.538      -0.898       1.716\n",
      "Landmark       0.4880      0.327      1.492      0.137      -0.156       1.132\n",
      "Park           1.3377      0.418      3.204      0.002       0.516       2.160\n",
      "==============================================================================\n",
      "Omnibus:                       76.028   Durbin-Watson:                   0.234\n",
      "Prob(Omnibus):                  0.000   Jarque-Bera (JB):              138.074\n",
      "Skew:                           1.463   Prob(JB):                     1.04e-30\n",
      "Kurtosis:                       4.773   Cond. No.                         19.0\n",
      "==============================================================================\n",
      "\n",
      "Notes:\n",
      "[1] Standard Errors assume that the covariance matrix of the errors is correctly specified.\n"
     ]
    }
   ],
   "source": [
    "X = sm.add_constant(X)\n",
    "\n",
    "# Fit the model\n",
    "model = sm.OLS(y, X).fit()\n",
    "\n",
    "# Print the summary\n",
    "print(model.summary())"
   ]
  },
  {
   "attachments": {},
   "cell_type": "markdown",
   "metadata": {},
   "source": [
    "### I have dropped 'Cafe', 'Landmark',which didn't have significant effect to see if it changes the result specially the R."
   ]
  },
  {
   "cell_type": "code",
   "execution_count": 10,
   "metadata": {},
   "outputs": [
    {
     "name": "stdout",
     "output_type": "stream",
     "text": [
      "                            OLS Regression Results                            \n",
      "==============================================================================\n",
      "Dep. Variable:        Available Bikes   R-squared:                       0.028\n",
      "Model:                            OLS   Adj. R-squared:                  0.021\n",
      "Method:                 Least Squares   F-statistic:                     4.040\n",
      "Date:                Mon, 18 Mar 2024   Prob (F-statistic):             0.0186\n",
      "Time:                        12:08:55   Log-Likelihood:                -358.66\n",
      "No. Observations:                 283   AIC:                             723.3\n",
      "Df Residuals:                     280   BIC:                             734.3\n",
      "Df Model:                           2                                         \n",
      "Covariance Type:            nonrobust                                         \n",
      "==============================================================================\n",
      "                 coef    std err          t      P>|t|      [0.025      0.975]\n",
      "------------------------------------------------------------------------------\n",
      "const          0.4062      0.153      2.660      0.008       0.106       0.707\n",
      "Bar/Pub        0.2126      0.162      1.309      0.192      -0.107       0.532\n",
      "Park           1.0223      0.360      2.836      0.005       0.313       1.732\n",
      "==============================================================================\n",
      "Omnibus:                       76.380   Durbin-Watson:                   0.230\n",
      "Prob(Omnibus):                  0.000   Jarque-Bera (JB):              138.804\n",
      "Skew:                           1.471   Prob(JB):                     7.23e-31\n",
      "Kurtosis:                       4.765   Cond. No.                         9.82\n",
      "==============================================================================\n",
      "\n",
      "Notes:\n",
      "[1] Standard Errors assume that the covariance matrix of the errors is correctly specified.\n"
     ]
    }
   ],
   "source": [
    " #droping 'Cafe', 'Landmark',whicch didn;t have significant effect to see if it changes the result \n",
    " \n",
    "X_modified = X.drop(['Cafe', 'Landmark'], axis=1)\n",
    "\n",
    "\n",
    "X_modified_const = sm.add_constant(X_modified)\n",
    "\n",
    "model = sm.OLS(y, X_modified_const).fit()\n",
    "\n",
    "\n",
    "print(model.summary())\n"
   ]
  },
  {
   "attachments": {},
   "cell_type": "markdown",
   "metadata": {},
   "source": [
    "## The Park has the significant effect on the model and the R got worse, which can be good thing to check in future observations."
   ]
  },
  {
   "attachments": {},
   "cell_type": "markdown",
   "metadata": {},
   "source": [
    "# Stretch"
   ]
  },
  {
   "attachments": {},
   "cell_type": "markdown",
   "metadata": {},
   "source": [
    "How can you turn the regression model into a classification model?"
   ]
  },
  {
   "cell_type": "code",
   "execution_count": null,
   "metadata": {},
   "outputs": [],
   "source": []
  }
 ],
 "metadata": {
  "kernelspec": {
   "display_name": "Python 3",
   "language": "python",
   "name": "python3"
  },
  "language_info": {
   "codemirror_mode": {
    "name": "ipython",
    "version": 3
   },
   "file_extension": ".py",
   "mimetype": "text/x-python",
   "name": "python",
   "nbconvert_exporter": "python",
   "pygments_lexer": "ipython3",
   "version": "3.11.7"
  }
 },
 "nbformat": 4,
 "nbformat_minor": 4
}
